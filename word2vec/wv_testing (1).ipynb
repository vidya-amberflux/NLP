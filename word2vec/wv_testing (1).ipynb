{
  "nbformat": 4,
  "nbformat_minor": 0,
  "metadata": {
    "colab": {
      "provenance": []
    },
    "kernelspec": {
      "name": "python3",
      "display_name": "Python 3"
    },
    "language_info": {
      "name": "python"
    }
  },
  "cells": [
    {
      "cell_type": "code",
      "execution_count": null,
      "metadata": {
        "id": "8rt40XgxtBE8"
      },
      "outputs": [],
      "source": [
        "#import necessary libraries\n",
        "import pandas as pd\n",
        "import numpy as np\n",
        "import gensim\n",
        "import pickle\n",
        "from gensim.models import Word2Vec\n",
        "from sklearn.linear_model import LogisticRegression\n",
        "from sklearn.ensemble import RandomForestClassifier\n",
        "from sklearn.svm import LinearSVC\n",
        "from sklearn.tree import DecisionTreeClassifier\n",
        "from sklearn.model_selection import train_test_split\n",
        "from sklearn.metrics import classification_report\n",
        "import matplotlib.pyplot as plt\n",
        "import seaborn as sns"
      ]
    },
    {
      "cell_type": "code",
      "source": [
        "!python --version\n"
      ],
      "metadata": {
        "colab": {
          "base_uri": "https://localhost:8080/"
        },
        "id": "jg1mQGn1mW4r",
        "outputId": "3b701ed9-6ab8-46f0-f9cd-614cee38efb0"
      },
      "execution_count": null,
      "outputs": [
        {
          "output_type": "stream",
          "name": "stdout",
          "text": [
            "Python 3.9.16\n"
          ]
        }
      ]
    },
    {
      "cell_type": "code",
      "source": [
        "gensim.__version__"
      ],
      "metadata": {
        "colab": {
          "base_uri": "https://localhost:8080/",
          "height": 36
        },
        "id": "30WYINPpmumW",
        "outputId": "7a020297-cffe-4281-9a9c-f4dbdc89c740"
      },
      "execution_count": null,
      "outputs": [
        {
          "output_type": "execute_result",
          "data": {
            "text/plain": [
              "'4.3.1'"
            ],
            "application/vnd.google.colaboratory.intrinsic+json": {
              "type": "string"
            }
          },
          "metadata": {},
          "execution_count": 2
        }
      ]
    },
    {
      "cell_type": "code",
      "source": [
        "!pip install --upgrade gensim"
      ],
      "metadata": {
        "colab": {
          "base_uri": "https://localhost:8080/",
          "height": 359
        },
        "id": "aETK1YINm8Ii",
        "outputId": "bb7b594f-c3d2-4e1a-d126-0fd76aadae8e"
      },
      "execution_count": null,
      "outputs": [
        {
          "output_type": "stream",
          "name": "stdout",
          "text": [
            "Looking in indexes: https://pypi.org/simple, https://us-python.pkg.dev/colab-wheels/public/simple/\n",
            "Requirement already satisfied: gensim in /usr/local/lib/python3.9/dist-packages (3.6.0)\n",
            "Collecting gensim\n",
            "  Downloading gensim-4.3.1-cp39-cp39-manylinux_2_17_x86_64.manylinux2014_x86_64.whl (26.5 MB)\n",
            "\u001b[2K     \u001b[90m━━━━━━━━━━━━━━━━━━━━━━━━━━━━━━━━━━━━━━━━\u001b[0m \u001b[32m26.5/26.5 MB\u001b[0m \u001b[31m45.2 MB/s\u001b[0m eta \u001b[36m0:00:00\u001b[0m\n",
            "\u001b[?25hRequirement already satisfied: numpy>=1.18.5 in /usr/local/lib/python3.9/dist-packages (from gensim) (1.22.4)\n",
            "Requirement already satisfied: scipy>=1.7.0 in /usr/local/lib/python3.9/dist-packages (from gensim) (1.10.1)\n",
            "Requirement already satisfied: smart-open>=1.8.1 in /usr/local/lib/python3.9/dist-packages (from gensim) (6.3.0)\n",
            "Installing collected packages: gensim\n",
            "  Attempting uninstall: gensim\n",
            "    Found existing installation: gensim 3.6.0\n",
            "    Uninstalling gensim-3.6.0:\n",
            "      Successfully uninstalled gensim-3.6.0\n",
            "Successfully installed gensim-4.3.1\n"
          ]
        },
        {
          "output_type": "display_data",
          "data": {
            "application/vnd.colab-display-data+json": {
              "pip_warning": {
                "packages": [
                  "gensim"
                ]
              }
            }
          },
          "metadata": {}
        }
      ]
    },
    {
      "cell_type": "code",
      "source": [
        "# Load the word2vec model from disk\n",
        "with open('/content/wv_model_25march.pickle', 'rb') as f:\n",
        "    wv_model = pickle.load(f)\n",
        "\n",
        "\n",
        "# Load the logistic regression model from disk\n",
        "with open('/content/lr_model_25march.pickle', 'rb') as f:\n",
        "    lr_model = pickle.load(f)\n",
        "\n",
        "# # Load the word2vec model from disk\n",
        "# with open('/content/wv_model_17_march.pickle', 'rb') as f:\n",
        "#     wv_model17 = pickle.load(f)\n",
        "\n",
        "# # Load the logistic regression model from disk\n",
        "# with open('/content/lr_model_17march.pickle', 'rb') as f:\n",
        "#     lr_model17 = pickle.load(f)\n",
        "\n",
        "# with open('/content/rf_model.pickle', 'rb') as f:\n",
        "#     rf_model = pickle.load(f)\n",
        "\n",
        "\n"
      ],
      "metadata": {
        "id": "fVHjxUoWtCDx"
      },
      "execution_count": null,
      "outputs": []
    },
    {
      "cell_type": "code",
      "source": [],
      "metadata": {
        "id": "l8YZvwTuv-n9"
      },
      "execution_count": null,
      "outputs": []
    },
    {
      "cell_type": "code",
      "source": [
        "# Pre-process the text data\n",
        "def preprocess_text(text):\n",
        "    # Remove special characters and numbers\n",
        "    text = gensim.utils.simple_preprocess(text)\n",
        "    return text"
      ],
      "metadata": {
        "id": "aQHrsyrkv7CR"
      },
      "execution_count": null,
      "outputs": []
    },
    {
      "cell_type": "code",
      "source": [
        "# Create the features\n",
        "def get_vector(text):\n",
        "    vector = np.zeros(100)\n",
        "    count = 0\n",
        "    for word in text:\n",
        "        try:\n",
        "            vector += wv_model.wv[word]\n",
        "            count += 1\n",
        "        except KeyError:\n",
        "            pass\n",
        "    if count != 0:\n",
        "        vector /= count\n",
        "    return vector"
      ],
      "metadata": {
        "id": "VQD76Ju8v_E3"
      },
      "execution_count": null,
      "outputs": []
    },
    {
      "cell_type": "code",
      "source": [
        "# Get user input\n",
        "text = input('Enter a text description: ')\n",
        "text = preprocess_text(text)\n",
        "vector = get_vector(text)\n",
        "#predict_label(vector)\n",
        "\n",
        "# Predict the label\n",
        "prediction = lr_model.predict([vector])\n",
        "\n",
        "# Output the label\n",
        "print('The label is:', prediction[0])"
      ],
      "metadata": {
        "id": "TMJD-5KqwDOG",
        "colab": {
          "base_uri": "https://localhost:8080/"
        },
        "outputId": "669eeb15-e824-420a-833f-e5d9139c885a"
      },
      "execution_count": null,
      "outputs": [
        {
          "output_type": "stream",
          "name": "stdout",
          "text": [
            "Enter a text description: windsheild\n",
            "The label is: All 4 wheel drive not working\n"
          ]
        }
      ]
    },
    {
      "cell_type": "code",
      "source": [
        "#import the test dataset to be tested\n",
        "data = pd.read_excel('/content/test_reports.xlsx')\n",
        "data"
      ],
      "metadata": {
        "colab": {
          "base_uri": "https://localhost:8080/",
          "height": 423
        },
        "id": "YHNA8dnLwFRd",
        "outputId": "af58e065-cbd8-48e3-809b-e9c7d97189f8"
      },
      "execution_count": null,
      "outputs": [
        {
          "output_type": "execute_result",
          "data": {
            "text/plain": [
              "                              Problem 1     Logic Tree Name\n",
              "0                          Not starting            No start\n",
              "1                          Not starting            No start\n",
              "2                         Not Crancking            No start\n",
              "3                        Engine Shaking             Misfire\n",
              "4                       Engine Stumbles             Misfire\n",
              "..                                  ...                 ...\n",
              "137  Engine misfire or cylinder misfire             Misfire\n",
              "138                   No Heat from HVAC   No heat from hvac\n",
              "139                      AC Not Working      Ac not working\n",
              "140               Engine is overheating  Engine overheating\n",
              "141                    oil leak problem     Engine oil leak\n",
              "\n",
              "[142 rows x 2 columns]"
            ],
            "text/html": [
              "\n",
              "  <div id=\"df-620814ce-bda1-46cd-b6a7-7da2ad21fb6e\">\n",
              "    <div class=\"colab-df-container\">\n",
              "      <div>\n",
              "<style scoped>\n",
              "    .dataframe tbody tr th:only-of-type {\n",
              "        vertical-align: middle;\n",
              "    }\n",
              "\n",
              "    .dataframe tbody tr th {\n",
              "        vertical-align: top;\n",
              "    }\n",
              "\n",
              "    .dataframe thead th {\n",
              "        text-align: right;\n",
              "    }\n",
              "</style>\n",
              "<table border=\"1\" class=\"dataframe\">\n",
              "  <thead>\n",
              "    <tr style=\"text-align: right;\">\n",
              "      <th></th>\n",
              "      <th>Problem 1</th>\n",
              "      <th>Logic Tree Name</th>\n",
              "    </tr>\n",
              "  </thead>\n",
              "  <tbody>\n",
              "    <tr>\n",
              "      <th>0</th>\n",
              "      <td>Not starting</td>\n",
              "      <td>No start</td>\n",
              "    </tr>\n",
              "    <tr>\n",
              "      <th>1</th>\n",
              "      <td>Not starting</td>\n",
              "      <td>No start</td>\n",
              "    </tr>\n",
              "    <tr>\n",
              "      <th>2</th>\n",
              "      <td>Not Crancking</td>\n",
              "      <td>No start</td>\n",
              "    </tr>\n",
              "    <tr>\n",
              "      <th>3</th>\n",
              "      <td>Engine Shaking</td>\n",
              "      <td>Misfire</td>\n",
              "    </tr>\n",
              "    <tr>\n",
              "      <th>4</th>\n",
              "      <td>Engine Stumbles</td>\n",
              "      <td>Misfire</td>\n",
              "    </tr>\n",
              "    <tr>\n",
              "      <th>...</th>\n",
              "      <td>...</td>\n",
              "      <td>...</td>\n",
              "    </tr>\n",
              "    <tr>\n",
              "      <th>137</th>\n",
              "      <td>Engine misfire or cylinder misfire</td>\n",
              "      <td>Misfire</td>\n",
              "    </tr>\n",
              "    <tr>\n",
              "      <th>138</th>\n",
              "      <td>No Heat from HVAC</td>\n",
              "      <td>No heat from hvac</td>\n",
              "    </tr>\n",
              "    <tr>\n",
              "      <th>139</th>\n",
              "      <td>AC Not Working</td>\n",
              "      <td>Ac not working</td>\n",
              "    </tr>\n",
              "    <tr>\n",
              "      <th>140</th>\n",
              "      <td>Engine is overheating</td>\n",
              "      <td>Engine overheating</td>\n",
              "    </tr>\n",
              "    <tr>\n",
              "      <th>141</th>\n",
              "      <td>oil leak problem</td>\n",
              "      <td>Engine oil leak</td>\n",
              "    </tr>\n",
              "  </tbody>\n",
              "</table>\n",
              "<p>142 rows × 2 columns</p>\n",
              "</div>\n",
              "      <button class=\"colab-df-convert\" onclick=\"convertToInteractive('df-620814ce-bda1-46cd-b6a7-7da2ad21fb6e')\"\n",
              "              title=\"Convert this dataframe to an interactive table.\"\n",
              "              style=\"display:none;\">\n",
              "        \n",
              "  <svg xmlns=\"http://www.w3.org/2000/svg\" height=\"24px\"viewBox=\"0 0 24 24\"\n",
              "       width=\"24px\">\n",
              "    <path d=\"M0 0h24v24H0V0z\" fill=\"none\"/>\n",
              "    <path d=\"M18.56 5.44l.94 2.06.94-2.06 2.06-.94-2.06-.94-.94-2.06-.94 2.06-2.06.94zm-11 1L8.5 8.5l.94-2.06 2.06-.94-2.06-.94L8.5 2.5l-.94 2.06-2.06.94zm10 10l.94 2.06.94-2.06 2.06-.94-2.06-.94-.94-2.06-.94 2.06-2.06.94z\"/><path d=\"M17.41 7.96l-1.37-1.37c-.4-.4-.92-.59-1.43-.59-.52 0-1.04.2-1.43.59L10.3 9.45l-7.72 7.72c-.78.78-.78 2.05 0 2.83L4 21.41c.39.39.9.59 1.41.59.51 0 1.02-.2 1.41-.59l7.78-7.78 2.81-2.81c.8-.78.8-2.07 0-2.86zM5.41 20L4 18.59l7.72-7.72 1.47 1.35L5.41 20z\"/>\n",
              "  </svg>\n",
              "      </button>\n",
              "      \n",
              "  <style>\n",
              "    .colab-df-container {\n",
              "      display:flex;\n",
              "      flex-wrap:wrap;\n",
              "      gap: 12px;\n",
              "    }\n",
              "\n",
              "    .colab-df-convert {\n",
              "      background-color: #E8F0FE;\n",
              "      border: none;\n",
              "      border-radius: 50%;\n",
              "      cursor: pointer;\n",
              "      display: none;\n",
              "      fill: #1967D2;\n",
              "      height: 32px;\n",
              "      padding: 0 0 0 0;\n",
              "      width: 32px;\n",
              "    }\n",
              "\n",
              "    .colab-df-convert:hover {\n",
              "      background-color: #E2EBFA;\n",
              "      box-shadow: 0px 1px 2px rgba(60, 64, 67, 0.3), 0px 1px 3px 1px rgba(60, 64, 67, 0.15);\n",
              "      fill: #174EA6;\n",
              "    }\n",
              "\n",
              "    [theme=dark] .colab-df-convert {\n",
              "      background-color: #3B4455;\n",
              "      fill: #D2E3FC;\n",
              "    }\n",
              "\n",
              "    [theme=dark] .colab-df-convert:hover {\n",
              "      background-color: #434B5C;\n",
              "      box-shadow: 0px 1px 3px 1px rgba(0, 0, 0, 0.15);\n",
              "      filter: drop-shadow(0px 1px 2px rgba(0, 0, 0, 0.3));\n",
              "      fill: #FFFFFF;\n",
              "    }\n",
              "  </style>\n",
              "\n",
              "      <script>\n",
              "        const buttonEl =\n",
              "          document.querySelector('#df-620814ce-bda1-46cd-b6a7-7da2ad21fb6e button.colab-df-convert');\n",
              "        buttonEl.style.display =\n",
              "          google.colab.kernel.accessAllowed ? 'block' : 'none';\n",
              "\n",
              "        async function convertToInteractive(key) {\n",
              "          const element = document.querySelector('#df-620814ce-bda1-46cd-b6a7-7da2ad21fb6e');\n",
              "          const dataTable =\n",
              "            await google.colab.kernel.invokeFunction('convertToInteractive',\n",
              "                                                     [key], {});\n",
              "          if (!dataTable) return;\n",
              "\n",
              "          const docLinkHtml = 'Like what you see? Visit the ' +\n",
              "            '<a target=\"_blank\" href=https://colab.research.google.com/notebooks/data_table.ipynb>data table notebook</a>'\n",
              "            + ' to learn more about interactive tables.';\n",
              "          element.innerHTML = '';\n",
              "          dataTable['output_type'] = 'display_data';\n",
              "          await google.colab.output.renderOutput(dataTable, element);\n",
              "          const docLink = document.createElement('div');\n",
              "          docLink.innerHTML = docLinkHtml;\n",
              "          element.appendChild(docLink);\n",
              "        }\n",
              "      </script>\n",
              "    </div>\n",
              "  </div>\n",
              "  "
            ]
          },
          "metadata": {},
          "execution_count": 11
        }
      ]
    },
    {
      "cell_type": "code",
      "source": [
        "data['Problem 1'][2]"
      ],
      "metadata": {
        "colab": {
          "base_uri": "https://localhost:8080/",
          "height": 36
        },
        "id": "R6AuxbaQxk7i",
        "outputId": "1861cbd9-f3fb-46b4-e1b3-cb3d68024f46"
      },
      "execution_count": null,
      "outputs": [
        {
          "output_type": "execute_result",
          "data": {
            "text/plain": [
              "'Not Crancking'"
            ],
            "application/vnd.google.colaboratory.intrinsic+json": {
              "type": "string"
            }
          },
          "metadata": {},
          "execution_count": 12
        }
      ]
    },
    {
      "cell_type": "code",
      "source": [
        "#bulk testing , appending to list then create a dataframe with the predictions\n",
        "f_pre = []\n",
        "for i in range(0,len(data['Logic Tree Name'])):\n",
        "  text = data['Problem 1'][i]\n",
        "  text = preprocess_text(text)\n",
        "  vector = get_vector(text)\n",
        "  prediction = rf_model.predict([vector])\n",
        "  f_pre.append(prediction[0])\n",
        "ser = pd.Series(f_pre)\n",
        "data['rf_prediction_new'] = ser.values\n"
      ],
      "metadata": {
        "id": "o1J2xCGRwPy9"
      },
      "execution_count": null,
      "outputs": []
    },
    {
      "cell_type": "code",
      "source": [
        "data"
      ],
      "metadata": {
        "colab": {
          "base_uri": "https://localhost:8080/",
          "height": 467
        },
        "id": "CDGvGhn2yj4H",
        "outputId": "9fb25383-a59e-47f4-d192-573080a70a61"
      },
      "execution_count": null,
      "outputs": [
        {
          "output_type": "execute_result",
          "data": {
            "text/plain": [
              "                              Problem 1     Logic Tree Name  \\\n",
              "0                          Not starting            No start   \n",
              "1                          Not starting            No start   \n",
              "2                         Not Crancking            No start   \n",
              "3                        Engine Shaking             Misfire   \n",
              "4                       Engine Stumbles             Misfire   \n",
              "..                                  ...                 ...   \n",
              "137  Engine misfire or cylinder misfire             Misfire   \n",
              "138                   No Heat from HVAC   No heat from hvac   \n",
              "139                      AC Not Working      Ac not working   \n",
              "140               Engine is overheating  Engine overheating   \n",
              "141                    oil leak problem     Engine oil leak   \n",
              "\n",
              "             lr_prediction_17march              lr_prediction_new  \\\n",
              "0                         No start                       No start   \n",
              "1                         No start                       No start   \n",
              "2    Windshield wipers inoperative  Windshield wipers inoperative   \n",
              "3                          Misfire                        Misfire   \n",
              "4                          Misfire                        Misfire   \n",
              "..                             ...                            ...   \n",
              "137                        Misfire                        Misfire   \n",
              "138              No heat from hvac              No heat from hvac   \n",
              "139                 Ac not working                 Ac not working   \n",
              "140             Engine overheating             Engine overheating   \n",
              "141                Engine oil leak                Engine oil leak   \n",
              "\n",
              "                 rf_prediction_new  \n",
              "0                         No start  \n",
              "1                         No start  \n",
              "2    Windshield wipers inoperative  \n",
              "3      Low power hard acceleration  \n",
              "4      Low power hard acceleration  \n",
              "..                             ...  \n",
              "137                   Coolant leak  \n",
              "138                 Ac not working  \n",
              "139                 Ac not working  \n",
              "140                   Abs light on  \n",
              "141                Engine oil leak  \n",
              "\n",
              "[142 rows x 5 columns]"
            ],
            "text/html": [
              "\n",
              "  <div id=\"df-7c4829a0-ae48-4942-9942-874a46fa8b9f\">\n",
              "    <div class=\"colab-df-container\">\n",
              "      <div>\n",
              "<style scoped>\n",
              "    .dataframe tbody tr th:only-of-type {\n",
              "        vertical-align: middle;\n",
              "    }\n",
              "\n",
              "    .dataframe tbody tr th {\n",
              "        vertical-align: top;\n",
              "    }\n",
              "\n",
              "    .dataframe thead th {\n",
              "        text-align: right;\n",
              "    }\n",
              "</style>\n",
              "<table border=\"1\" class=\"dataframe\">\n",
              "  <thead>\n",
              "    <tr style=\"text-align: right;\">\n",
              "      <th></th>\n",
              "      <th>Problem 1</th>\n",
              "      <th>Logic Tree Name</th>\n",
              "      <th>lr_prediction_17march</th>\n",
              "      <th>lr_prediction_new</th>\n",
              "      <th>rf_prediction_new</th>\n",
              "    </tr>\n",
              "  </thead>\n",
              "  <tbody>\n",
              "    <tr>\n",
              "      <th>0</th>\n",
              "      <td>Not starting</td>\n",
              "      <td>No start</td>\n",
              "      <td>No start</td>\n",
              "      <td>No start</td>\n",
              "      <td>No start</td>\n",
              "    </tr>\n",
              "    <tr>\n",
              "      <th>1</th>\n",
              "      <td>Not starting</td>\n",
              "      <td>No start</td>\n",
              "      <td>No start</td>\n",
              "      <td>No start</td>\n",
              "      <td>No start</td>\n",
              "    </tr>\n",
              "    <tr>\n",
              "      <th>2</th>\n",
              "      <td>Not Crancking</td>\n",
              "      <td>No start</td>\n",
              "      <td>Windshield wipers inoperative</td>\n",
              "      <td>Windshield wipers inoperative</td>\n",
              "      <td>Windshield wipers inoperative</td>\n",
              "    </tr>\n",
              "    <tr>\n",
              "      <th>3</th>\n",
              "      <td>Engine Shaking</td>\n",
              "      <td>Misfire</td>\n",
              "      <td>Misfire</td>\n",
              "      <td>Misfire</td>\n",
              "      <td>Low power hard acceleration</td>\n",
              "    </tr>\n",
              "    <tr>\n",
              "      <th>4</th>\n",
              "      <td>Engine Stumbles</td>\n",
              "      <td>Misfire</td>\n",
              "      <td>Misfire</td>\n",
              "      <td>Misfire</td>\n",
              "      <td>Low power hard acceleration</td>\n",
              "    </tr>\n",
              "    <tr>\n",
              "      <th>...</th>\n",
              "      <td>...</td>\n",
              "      <td>...</td>\n",
              "      <td>...</td>\n",
              "      <td>...</td>\n",
              "      <td>...</td>\n",
              "    </tr>\n",
              "    <tr>\n",
              "      <th>137</th>\n",
              "      <td>Engine misfire or cylinder misfire</td>\n",
              "      <td>Misfire</td>\n",
              "      <td>Misfire</td>\n",
              "      <td>Misfire</td>\n",
              "      <td>Coolant leak</td>\n",
              "    </tr>\n",
              "    <tr>\n",
              "      <th>138</th>\n",
              "      <td>No Heat from HVAC</td>\n",
              "      <td>No heat from hvac</td>\n",
              "      <td>No heat from hvac</td>\n",
              "      <td>No heat from hvac</td>\n",
              "      <td>Ac not working</td>\n",
              "    </tr>\n",
              "    <tr>\n",
              "      <th>139</th>\n",
              "      <td>AC Not Working</td>\n",
              "      <td>Ac not working</td>\n",
              "      <td>Ac not working</td>\n",
              "      <td>Ac not working</td>\n",
              "      <td>Ac not working</td>\n",
              "    </tr>\n",
              "    <tr>\n",
              "      <th>140</th>\n",
              "      <td>Engine is overheating</td>\n",
              "      <td>Engine overheating</td>\n",
              "      <td>Engine overheating</td>\n",
              "      <td>Engine overheating</td>\n",
              "      <td>Abs light on</td>\n",
              "    </tr>\n",
              "    <tr>\n",
              "      <th>141</th>\n",
              "      <td>oil leak problem</td>\n",
              "      <td>Engine oil leak</td>\n",
              "      <td>Engine oil leak</td>\n",
              "      <td>Engine oil leak</td>\n",
              "      <td>Engine oil leak</td>\n",
              "    </tr>\n",
              "  </tbody>\n",
              "</table>\n",
              "<p>142 rows × 5 columns</p>\n",
              "</div>\n",
              "      <button class=\"colab-df-convert\" onclick=\"convertToInteractive('df-7c4829a0-ae48-4942-9942-874a46fa8b9f')\"\n",
              "              title=\"Convert this dataframe to an interactive table.\"\n",
              "              style=\"display:none;\">\n",
              "        \n",
              "  <svg xmlns=\"http://www.w3.org/2000/svg\" height=\"24px\"viewBox=\"0 0 24 24\"\n",
              "       width=\"24px\">\n",
              "    <path d=\"M0 0h24v24H0V0z\" fill=\"none\"/>\n",
              "    <path d=\"M18.56 5.44l.94 2.06.94-2.06 2.06-.94-2.06-.94-.94-2.06-.94 2.06-2.06.94zm-11 1L8.5 8.5l.94-2.06 2.06-.94-2.06-.94L8.5 2.5l-.94 2.06-2.06.94zm10 10l.94 2.06.94-2.06 2.06-.94-2.06-.94-.94-2.06-.94 2.06-2.06.94z\"/><path d=\"M17.41 7.96l-1.37-1.37c-.4-.4-.92-.59-1.43-.59-.52 0-1.04.2-1.43.59L10.3 9.45l-7.72 7.72c-.78.78-.78 2.05 0 2.83L4 21.41c.39.39.9.59 1.41.59.51 0 1.02-.2 1.41-.59l7.78-7.78 2.81-2.81c.8-.78.8-2.07 0-2.86zM5.41 20L4 18.59l7.72-7.72 1.47 1.35L5.41 20z\"/>\n",
              "  </svg>\n",
              "      </button>\n",
              "      \n",
              "  <style>\n",
              "    .colab-df-container {\n",
              "      display:flex;\n",
              "      flex-wrap:wrap;\n",
              "      gap: 12px;\n",
              "    }\n",
              "\n",
              "    .colab-df-convert {\n",
              "      background-color: #E8F0FE;\n",
              "      border: none;\n",
              "      border-radius: 50%;\n",
              "      cursor: pointer;\n",
              "      display: none;\n",
              "      fill: #1967D2;\n",
              "      height: 32px;\n",
              "      padding: 0 0 0 0;\n",
              "      width: 32px;\n",
              "    }\n",
              "\n",
              "    .colab-df-convert:hover {\n",
              "      background-color: #E2EBFA;\n",
              "      box-shadow: 0px 1px 2px rgba(60, 64, 67, 0.3), 0px 1px 3px 1px rgba(60, 64, 67, 0.15);\n",
              "      fill: #174EA6;\n",
              "    }\n",
              "\n",
              "    [theme=dark] .colab-df-convert {\n",
              "      background-color: #3B4455;\n",
              "      fill: #D2E3FC;\n",
              "    }\n",
              "\n",
              "    [theme=dark] .colab-df-convert:hover {\n",
              "      background-color: #434B5C;\n",
              "      box-shadow: 0px 1px 3px 1px rgba(0, 0, 0, 0.15);\n",
              "      filter: drop-shadow(0px 1px 2px rgba(0, 0, 0, 0.3));\n",
              "      fill: #FFFFFF;\n",
              "    }\n",
              "  </style>\n",
              "\n",
              "      <script>\n",
              "        const buttonEl =\n",
              "          document.querySelector('#df-7c4829a0-ae48-4942-9942-874a46fa8b9f button.colab-df-convert');\n",
              "        buttonEl.style.display =\n",
              "          google.colab.kernel.accessAllowed ? 'block' : 'none';\n",
              "\n",
              "        async function convertToInteractive(key) {\n",
              "          const element = document.querySelector('#df-7c4829a0-ae48-4942-9942-874a46fa8b9f');\n",
              "          const dataTable =\n",
              "            await google.colab.kernel.invokeFunction('convertToInteractive',\n",
              "                                                     [key], {});\n",
              "          if (!dataTable) return;\n",
              "\n",
              "          const docLinkHtml = 'Like what you see? Visit the ' +\n",
              "            '<a target=\"_blank\" href=https://colab.research.google.com/notebooks/data_table.ipynb>data table notebook</a>'\n",
              "            + ' to learn more about interactive tables.';\n",
              "          element.innerHTML = '';\n",
              "          dataTable['output_type'] = 'display_data';\n",
              "          await google.colab.output.renderOutput(dataTable, element);\n",
              "          const docLink = document.createElement('div');\n",
              "          docLink.innerHTML = docLinkHtml;\n",
              "          element.appendChild(docLink);\n",
              "        }\n",
              "      </script>\n",
              "    </div>\n",
              "  </div>\n",
              "  "
            ]
          },
          "metadata": {},
          "execution_count": 44
        }
      ]
    },
    {
      "cell_type": "code",
      "source": [
        "#creating an excel file of the results\n",
        "data.to_excel('test_compareing_models_25march.xlsx')"
      ],
      "metadata": {
        "id": "kcgJgzwKykXD"
      },
      "execution_count": null,
      "outputs": []
    },
    {
      "cell_type": "code",
      "source": [],
      "metadata": {
        "id": "fEDOIrNd-5xG"
      },
      "execution_count": null,
      "outputs": []
    }
  ]
}