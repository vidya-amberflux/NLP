{
  "cells": [
    {
      "cell_type": "code",
      "execution_count": null,
      "metadata": {
        "colab": {
          "base_uri": "https://localhost:8080/"
        },
        "id": "kcuVpE48rBpT",
        "outputId": "42f0bedc-3020-4c1b-f921-af1c91b619af"
      },
      "outputs": [
        {
          "output_type": "stream",
          "name": "stdout",
          "text": [
            "[=================================================-] 100.0% 1662.6/1662.8MB downloaded\n"
          ]
        }
      ],
      "source": [
        "#import gensim\n",
        "import gensim.downloader as api\n",
        "wv = api.load('word2vec-google-news-300')"
      ]
    },
    {
      "cell_type": "code",
      "execution_count": null,
      "metadata": {
        "colab": {
          "base_uri": "https://localhost:8080/"
        },
        "id": "eVNVQQuy1x8X",
        "outputId": "ac06df2a-85f8-4bf5-f0db-eede5cd69b19"
      },
      "outputs": [
        {
          "output_type": "stream",
          "name": "stdout",
          "text": [
            "Mounted at /content/drive\n"
          ]
        }
      ],
      "source": [
        "from google.colab import drive\n",
        "drive.mount('/content/drive')"
      ]
    },
    {
      "cell_type": "code",
      "execution_count": null,
      "metadata": {
        "id": "Ss0yuHKv6zbE"
      },
      "outputs": [],
      "source": [
        "#import necessary libraries\n",
        "import pandas as pd\n",
        "import numpy as np\n",
        "import gensim\n",
        "import pickle\n",
        "from gensim.models import Word2Vec\n",
        "from sklearn.linear_model import LogisticRegression\n",
        "from sklearn.ensemble import RandomForestClassifier\n",
        "from sklearn.svm import LinearSVC\n",
        "from sklearn.tree import DecisionTreeClassifier\n",
        "from sklearn.model_selection import train_test_split\n",
        "from sklearn.metrics import classification_report\n",
        "import matplotlib.pyplot as plt\n",
        "import seaborn as sns"
      ]
    },
    {
      "cell_type": "code",
      "source": [
        "gensim.__version__"
      ],
      "metadata": {
        "id": "LN1Fr0FWg3Fa",
        "outputId": "cb3e612c-1b19-4ab6-b85e-46d2b3801aa7",
        "colab": {
          "base_uri": "https://localhost:8080/",
          "height": 36
        }
      },
      "execution_count": null,
      "outputs": [
        {
          "output_type": "execute_result",
          "data": {
            "text/plain": [
              "'4.3.1'"
            ],
            "application/vnd.google.colaboratory.intrinsic+json": {
              "type": "string"
            }
          },
          "metadata": {},
          "execution_count": 2
        }
      ]
    },
    {
      "cell_type": "code",
      "execution_count": null,
      "metadata": {
        "id": "smocts1fXNJo"
      },
      "outputs": [],
      "source": [
        "with open('/content/drive/MyDrive/RaH_NLP_24/wv.pickle', 'wb') as f:\n",
        "  pickle.dump(wv, f)\n"
      ]
    },
    {
      "cell_type": "code",
      "execution_count": null,
      "metadata": {
        "id": "jQt3chDVp6pd"
      },
      "outputs": [],
      "source": [
        "#load the dataset\n",
        "df1 = pd.read_excel(\"/content/drive/MyDrive/RaH_NLP_24/1. Ford F Series Logic Tree Matching (17 Mar 2023) (1).xlsx\")\n",
        "df2 = pd.read_excel(\"/content/drive/MyDrive/RaH_NLP_24/2. Dodge Logic Tree Matching (17 Mar 2023) (1).xlsx\")\n",
        "df3 = pd.read_excel(\"/content/drive/MyDrive/RaH_NLP_24/3. Toyota Logic Tree Matching (17 Mar 2023) (1).xlsx\")\n",
        "df4 = pd.read_excel(\"/content/drive/MyDrive/RaH_NLP_24/4. Chevrolet Logic Tree Matching (17 Mar 2023) (1).xlsx\")\n",
        "df5 = pd.read_excel(\"/content/drive/MyDrive/RaH_NLP_24/5. Ford Escape Logic Tree Matching (17 Mar 2023) (1).xlsx\")\n",
        "df6 = pd.read_excel(\"/content/drive/MyDrive/RaH_NLP_24/6. Ford Explorer Logic Tree Matching (17 Mar 2023) (1).xlsx\")\n",
        "df7 = pd.read_excel(\"/content/drive/MyDrive/RaH_NLP_24/7. Honda Logic Tree Matching (17 Mar 2023) (1).xlsx\")\n",
        "df8 = pd.read_excel(\"/content/drive/MyDrive/RaH_NLP_24/8. Nissan Logic Tree Matching (17 Mar 2023) (1).xlsx\")\n",
        "df9 = pd.read_excel(\"/content/drive/MyDrive/RaH_NLP_24/9. GMC Logic Tree Matching (17 Mar 2023) (1).xlsx\")"
      ]
    },
    {
      "cell_type": "code",
      "execution_count": null,
      "metadata": {
        "colab": {
          "base_uri": "https://localhost:8080/"
        },
        "id": "R9SJVU7YBSTL",
        "outputId": "fca7e7b5-1a44-46c9-9020-1a7be504e0b7"
      },
      "outputs": [
        {
          "output_type": "stream",
          "name": "stderr",
          "text": [
            "<ipython-input-43-a6fc9bdf133c>:1: FutureWarning: The frame.append method is deprecated and will be removed from pandas in a future version. Use pandas.concat instead.\n",
            "  df = df1.append([df2, df3,df4,df5,df6,df7,df8,df9])\n"
          ]
        }
      ],
      "source": [
        "#append all the df into one df \n",
        "df = df1.append([df2, df3,df4,df5,df6,df7,df8,df9])"
      ]
    },
    {
      "cell_type": "code",
      "execution_count": null,
      "metadata": {
        "colab": {
          "base_uri": "https://localhost:8080/",
          "height": 676
        },
        "id": "ws9Xj9XSCpzf",
        "outputId": "62efcb2d-7346-46de-e3a4-0dbbde5b66c8"
      },
      "outputs": [
        {
          "output_type": "execute_result",
          "data": {
            "text/plain": [
              "    S.No Vehicle        Model Model Year          Problem  \\\n",
              "0      1    Ford       Fusion       2008  brakes problems   \n",
              "1      2    Ford       Fusion       2008  brakes problems   \n",
              "2      3    Ford       Fusion       2008  brakes problems   \n",
              "3      4    Ford        F-150       2002  brakes problems   \n",
              "4      5    Ford        F-150       2002  brakes problems   \n",
              "..   ...     ...          ...        ...              ...   \n",
              "695  322     GMC  Sierra_1500       2007  engine problems   \n",
              "696  323     GMC      Terrain       2010  engine problems   \n",
              "697  324     GMC      Terrain       2010  engine problems   \n",
              "698  325     GMC      Terrain       2010  engine problems   \n",
              "699  326     GMC      Terrain       2010  engine problems   \n",
              "\n",
              "                     Sub Problem              Logic Tree Name  \\\n",
              "0                    ABS Failure                 Abs light on   \n",
              "1                    ABS Failure                 Abs light on   \n",
              "2                    ABS Failure                 Abs light on   \n",
              "3                     Abs Faulty                 Abs light on   \n",
              "4                     Abs Faulty                 Abs light on   \n",
              "..                           ...                          ...   \n",
              "695   Reduced Power Or Limp Mode  Low power hard acceleration   \n",
              "696  Reduced Power While Driving  Low power hard acceleration   \n",
              "697  Reduced Power While Driving  Low power hard acceleration   \n",
              "698  Reduced Power While Driving  Low power hard acceleration   \n",
              "699  Reduced Power While Driving  Low power hard acceleration   \n",
              "\n",
              "               Model Title           Model Problem distance covered  \\\n",
              "0           Fusion ES 2.3L  Automatic transmission     74,000 miles   \n",
              "1          Fusion SE 4 cyl  Automatic transmission    105,633 miles   \n",
              "2     Fusion SE 2.3L 4 cyl  Automatic transmission     56,000 miles   \n",
              "3           F-150 XLT 5.4L  Automatic transmission    165,000 miles   \n",
              "4        F-150 XLT 5.4L V8  Automatic transmission     68,000 miles   \n",
              "..                     ...                     ...              ...   \n",
              "695   Sierra 1500 SLE 5.3L  Automatic transmission     98,000 miles   \n",
              "696       Terrain SLT-2 V6  Automatic transmission    115,653 miles   \n",
              "697                Terrain  Automatic transmission     80,000 miles   \n",
              "698         Terrain SLT V6  Automatic transmission    157,000 miles   \n",
              "699  Terrain 4DR FWD 4 cyl  Automatic transmission    124,562 miles   \n",
              "\n",
              "                                           description  \n",
              "0     ABS action occurred a year ago when I stopped...  \n",
              "1    The ABS failed as I was driving on the express...  \n",
              "2    At random, the ABS controller can fail renderi...  \n",
              "3     ABS light is always on, says Wheel Speed Sens...  \n",
              "4    I have replaced wheel hub assemblies on both s...  \n",
              "..                                                 ...  \n",
              "695   I've helped many people with this problem and...  \n",
              "696   Even with the high miles, this was excessive!...  \n",
              "697  I have had this problem for almost a year. My ...  \n",
              "698  I have owned this car for 1/12 years and have ...  \n",
              "699  My 2010 GMC Terrain suddenly reduced power whi...  \n",
              "\n",
              "[11890 rows x 11 columns]"
            ],
            "text/html": [
              "\n",
              "  <div id=\"df-459a4ebf-4a77-406d-8968-aa094e97e604\">\n",
              "    <div class=\"colab-df-container\">\n",
              "      <div>\n",
              "<style scoped>\n",
              "    .dataframe tbody tr th:only-of-type {\n",
              "        vertical-align: middle;\n",
              "    }\n",
              "\n",
              "    .dataframe tbody tr th {\n",
              "        vertical-align: top;\n",
              "    }\n",
              "\n",
              "    .dataframe thead th {\n",
              "        text-align: right;\n",
              "    }\n",
              "</style>\n",
              "<table border=\"1\" class=\"dataframe\">\n",
              "  <thead>\n",
              "    <tr style=\"text-align: right;\">\n",
              "      <th></th>\n",
              "      <th>S.No</th>\n",
              "      <th>Vehicle</th>\n",
              "      <th>Model</th>\n",
              "      <th>Model Year</th>\n",
              "      <th>Problem</th>\n",
              "      <th>Sub Problem</th>\n",
              "      <th>Logic Tree Name</th>\n",
              "      <th>Model Title</th>\n",
              "      <th>Model Problem</th>\n",
              "      <th>distance covered</th>\n",
              "      <th>description</th>\n",
              "    </tr>\n",
              "  </thead>\n",
              "  <tbody>\n",
              "    <tr>\n",
              "      <th>0</th>\n",
              "      <td>1</td>\n",
              "      <td>Ford</td>\n",
              "      <td>Fusion</td>\n",
              "      <td>2008</td>\n",
              "      <td>brakes problems</td>\n",
              "      <td>ABS Failure</td>\n",
              "      <td>Abs light on</td>\n",
              "      <td>Fusion ES 2.3L</td>\n",
              "      <td>Automatic transmission</td>\n",
              "      <td>74,000 miles</td>\n",
              "      <td>ABS action occurred a year ago when I stopped...</td>\n",
              "    </tr>\n",
              "    <tr>\n",
              "      <th>1</th>\n",
              "      <td>2</td>\n",
              "      <td>Ford</td>\n",
              "      <td>Fusion</td>\n",
              "      <td>2008</td>\n",
              "      <td>brakes problems</td>\n",
              "      <td>ABS Failure</td>\n",
              "      <td>Abs light on</td>\n",
              "      <td>Fusion SE 4 cyl</td>\n",
              "      <td>Automatic transmission</td>\n",
              "      <td>105,633 miles</td>\n",
              "      <td>The ABS failed as I was driving on the express...</td>\n",
              "    </tr>\n",
              "    <tr>\n",
              "      <th>2</th>\n",
              "      <td>3</td>\n",
              "      <td>Ford</td>\n",
              "      <td>Fusion</td>\n",
              "      <td>2008</td>\n",
              "      <td>brakes problems</td>\n",
              "      <td>ABS Failure</td>\n",
              "      <td>Abs light on</td>\n",
              "      <td>Fusion SE 2.3L 4 cyl</td>\n",
              "      <td>Automatic transmission</td>\n",
              "      <td>56,000 miles</td>\n",
              "      <td>At random, the ABS controller can fail renderi...</td>\n",
              "    </tr>\n",
              "    <tr>\n",
              "      <th>3</th>\n",
              "      <td>4</td>\n",
              "      <td>Ford</td>\n",
              "      <td>F-150</td>\n",
              "      <td>2002</td>\n",
              "      <td>brakes problems</td>\n",
              "      <td>Abs Faulty</td>\n",
              "      <td>Abs light on</td>\n",
              "      <td>F-150 XLT 5.4L</td>\n",
              "      <td>Automatic transmission</td>\n",
              "      <td>165,000 miles</td>\n",
              "      <td>ABS light is always on, says Wheel Speed Sens...</td>\n",
              "    </tr>\n",
              "    <tr>\n",
              "      <th>4</th>\n",
              "      <td>5</td>\n",
              "      <td>Ford</td>\n",
              "      <td>F-150</td>\n",
              "      <td>2002</td>\n",
              "      <td>brakes problems</td>\n",
              "      <td>Abs Faulty</td>\n",
              "      <td>Abs light on</td>\n",
              "      <td>F-150 XLT 5.4L V8</td>\n",
              "      <td>Automatic transmission</td>\n",
              "      <td>68,000 miles</td>\n",
              "      <td>I have replaced wheel hub assemblies on both s...</td>\n",
              "    </tr>\n",
              "    <tr>\n",
              "      <th>...</th>\n",
              "      <td>...</td>\n",
              "      <td>...</td>\n",
              "      <td>...</td>\n",
              "      <td>...</td>\n",
              "      <td>...</td>\n",
              "      <td>...</td>\n",
              "      <td>...</td>\n",
              "      <td>...</td>\n",
              "      <td>...</td>\n",
              "      <td>...</td>\n",
              "      <td>...</td>\n",
              "    </tr>\n",
              "    <tr>\n",
              "      <th>695</th>\n",
              "      <td>322</td>\n",
              "      <td>GMC</td>\n",
              "      <td>Sierra_1500</td>\n",
              "      <td>2007</td>\n",
              "      <td>engine problems</td>\n",
              "      <td>Reduced Power Or Limp Mode</td>\n",
              "      <td>Low power hard acceleration</td>\n",
              "      <td>Sierra 1500 SLE 5.3L</td>\n",
              "      <td>Automatic transmission</td>\n",
              "      <td>98,000 miles</td>\n",
              "      <td>I've helped many people with this problem and...</td>\n",
              "    </tr>\n",
              "    <tr>\n",
              "      <th>696</th>\n",
              "      <td>323</td>\n",
              "      <td>GMC</td>\n",
              "      <td>Terrain</td>\n",
              "      <td>2010</td>\n",
              "      <td>engine problems</td>\n",
              "      <td>Reduced Power While Driving</td>\n",
              "      <td>Low power hard acceleration</td>\n",
              "      <td>Terrain SLT-2 V6</td>\n",
              "      <td>Automatic transmission</td>\n",
              "      <td>115,653 miles</td>\n",
              "      <td>Even with the high miles, this was excessive!...</td>\n",
              "    </tr>\n",
              "    <tr>\n",
              "      <th>697</th>\n",
              "      <td>324</td>\n",
              "      <td>GMC</td>\n",
              "      <td>Terrain</td>\n",
              "      <td>2010</td>\n",
              "      <td>engine problems</td>\n",
              "      <td>Reduced Power While Driving</td>\n",
              "      <td>Low power hard acceleration</td>\n",
              "      <td>Terrain</td>\n",
              "      <td>Automatic transmission</td>\n",
              "      <td>80,000 miles</td>\n",
              "      <td>I have had this problem for almost a year. My ...</td>\n",
              "    </tr>\n",
              "    <tr>\n",
              "      <th>698</th>\n",
              "      <td>325</td>\n",
              "      <td>GMC</td>\n",
              "      <td>Terrain</td>\n",
              "      <td>2010</td>\n",
              "      <td>engine problems</td>\n",
              "      <td>Reduced Power While Driving</td>\n",
              "      <td>Low power hard acceleration</td>\n",
              "      <td>Terrain SLT V6</td>\n",
              "      <td>Automatic transmission</td>\n",
              "      <td>157,000 miles</td>\n",
              "      <td>I have owned this car for 1/12 years and have ...</td>\n",
              "    </tr>\n",
              "    <tr>\n",
              "      <th>699</th>\n",
              "      <td>326</td>\n",
              "      <td>GMC</td>\n",
              "      <td>Terrain</td>\n",
              "      <td>2010</td>\n",
              "      <td>engine problems</td>\n",
              "      <td>Reduced Power While Driving</td>\n",
              "      <td>Low power hard acceleration</td>\n",
              "      <td>Terrain 4DR FWD 4 cyl</td>\n",
              "      <td>Automatic transmission</td>\n",
              "      <td>124,562 miles</td>\n",
              "      <td>My 2010 GMC Terrain suddenly reduced power whi...</td>\n",
              "    </tr>\n",
              "  </tbody>\n",
              "</table>\n",
              "<p>11890 rows × 11 columns</p>\n",
              "</div>\n",
              "      <button class=\"colab-df-convert\" onclick=\"convertToInteractive('df-459a4ebf-4a77-406d-8968-aa094e97e604')\"\n",
              "              title=\"Convert this dataframe to an interactive table.\"\n",
              "              style=\"display:none;\">\n",
              "        \n",
              "  <svg xmlns=\"http://www.w3.org/2000/svg\" height=\"24px\"viewBox=\"0 0 24 24\"\n",
              "       width=\"24px\">\n",
              "    <path d=\"M0 0h24v24H0V0z\" fill=\"none\"/>\n",
              "    <path d=\"M18.56 5.44l.94 2.06.94-2.06 2.06-.94-2.06-.94-.94-2.06-.94 2.06-2.06.94zm-11 1L8.5 8.5l.94-2.06 2.06-.94-2.06-.94L8.5 2.5l-.94 2.06-2.06.94zm10 10l.94 2.06.94-2.06 2.06-.94-2.06-.94-.94-2.06-.94 2.06-2.06.94z\"/><path d=\"M17.41 7.96l-1.37-1.37c-.4-.4-.92-.59-1.43-.59-.52 0-1.04.2-1.43.59L10.3 9.45l-7.72 7.72c-.78.78-.78 2.05 0 2.83L4 21.41c.39.39.9.59 1.41.59.51 0 1.02-.2 1.41-.59l7.78-7.78 2.81-2.81c.8-.78.8-2.07 0-2.86zM5.41 20L4 18.59l7.72-7.72 1.47 1.35L5.41 20z\"/>\n",
              "  </svg>\n",
              "      </button>\n",
              "      \n",
              "  <style>\n",
              "    .colab-df-container {\n",
              "      display:flex;\n",
              "      flex-wrap:wrap;\n",
              "      gap: 12px;\n",
              "    }\n",
              "\n",
              "    .colab-df-convert {\n",
              "      background-color: #E8F0FE;\n",
              "      border: none;\n",
              "      border-radius: 50%;\n",
              "      cursor: pointer;\n",
              "      display: none;\n",
              "      fill: #1967D2;\n",
              "      height: 32px;\n",
              "      padding: 0 0 0 0;\n",
              "      width: 32px;\n",
              "    }\n",
              "\n",
              "    .colab-df-convert:hover {\n",
              "      background-color: #E2EBFA;\n",
              "      box-shadow: 0px 1px 2px rgba(60, 64, 67, 0.3), 0px 1px 3px 1px rgba(60, 64, 67, 0.15);\n",
              "      fill: #174EA6;\n",
              "    }\n",
              "\n",
              "    [theme=dark] .colab-df-convert {\n",
              "      background-color: #3B4455;\n",
              "      fill: #D2E3FC;\n",
              "    }\n",
              "\n",
              "    [theme=dark] .colab-df-convert:hover {\n",
              "      background-color: #434B5C;\n",
              "      box-shadow: 0px 1px 3px 1px rgba(0, 0, 0, 0.15);\n",
              "      filter: drop-shadow(0px 1px 2px rgba(0, 0, 0, 0.3));\n",
              "      fill: #FFFFFF;\n",
              "    }\n",
              "  </style>\n",
              "\n",
              "      <script>\n",
              "        const buttonEl =\n",
              "          document.querySelector('#df-459a4ebf-4a77-406d-8968-aa094e97e604 button.colab-df-convert');\n",
              "        buttonEl.style.display =\n",
              "          google.colab.kernel.accessAllowed ? 'block' : 'none';\n",
              "\n",
              "        async function convertToInteractive(key) {\n",
              "          const element = document.querySelector('#df-459a4ebf-4a77-406d-8968-aa094e97e604');\n",
              "          const dataTable =\n",
              "            await google.colab.kernel.invokeFunction('convertToInteractive',\n",
              "                                                     [key], {});\n",
              "          if (!dataTable) return;\n",
              "\n",
              "          const docLinkHtml = 'Like what you see? Visit the ' +\n",
              "            '<a target=\"_blank\" href=https://colab.research.google.com/notebooks/data_table.ipynb>data table notebook</a>'\n",
              "            + ' to learn more about interactive tables.';\n",
              "          element.innerHTML = '';\n",
              "          dataTable['output_type'] = 'display_data';\n",
              "          await google.colab.output.renderOutput(dataTable, element);\n",
              "          const docLink = document.createElement('div');\n",
              "          docLink.innerHTML = docLinkHtml;\n",
              "          element.appendChild(docLink);\n",
              "        }\n",
              "      </script>\n",
              "    </div>\n",
              "  </div>\n",
              "  "
            ]
          },
          "metadata": {},
          "execution_count": 44
        }
      ],
      "source": [
        "df"
      ]
    },
    {
      "cell_type": "code",
      "execution_count": null,
      "metadata": {
        "colab": {
          "base_uri": "https://localhost:8080/"
        },
        "id": "80gDCBYcC8-7",
        "outputId": "145becf7-351c-4027-ab41-444fdd0d8b2e"
      },
      "outputs": [
        {
          "output_type": "execute_result",
          "data": {
            "text/plain": [
              "0"
            ]
          },
          "metadata": {},
          "execution_count": 45
        }
      ],
      "source": [
        "count_nan = df['Logic Tree Name'].isnull().sum()\n",
        "count_nan"
      ]
    },
    {
      "cell_type": "code",
      "execution_count": null,
      "metadata": {
        "colab": {
          "base_uri": "https://localhost:8080/"
        },
        "id": "ikaMqcTBZG4h",
        "outputId": "976bee12-8b81-487a-b3da-b21847f72151"
      },
      "outputs": [
        {
          "output_type": "execute_result",
          "data": {
            "text/plain": [
              "array(['Abs light on', 'Ac not working', 'All 4 wheel drive not working',\n",
              "       'Back up camera not working', 'Battery drain when vehicle is off',\n",
              "       'Coolant leak', 'Engine overheating', 'Engine oil leak',\n",
              "       'Exhaust leak noise ', 'Low engine oil pressure level',\n",
              "       'Low power hard acceleration', 'Misfire', 'No heat from hvac',\n",
              "       'No start', 'Power window not working', 'Steering problems',\n",
              "       'Windshield wipers inoperative', 'Logic Tree Name',\n",
              "       'Driveline shudder noise binding', 'Exhaust leak noise'],\n",
              "      dtype=object)"
            ]
          },
          "metadata": {},
          "execution_count": 46
        }
      ],
      "source": [
        "#to vizualize the unique labels\n",
        "df['Logic Tree Name'].unique()"
      ]
    },
    {
      "cell_type": "code",
      "execution_count": null,
      "metadata": {
        "colab": {
          "base_uri": "https://localhost:8080/"
        },
        "id": "iRy6Cha_ct7a",
        "outputId": "2ec2d8ef-624f-4905-ea90-6103e86b51e2"
      },
      "outputs": [
        {
          "output_type": "execute_result",
          "data": {
            "text/plain": [
              "20"
            ]
          },
          "metadata": {},
          "execution_count": 47
        }
      ],
      "source": [
        "len(df['Logic Tree Name'].unique())"
      ]
    },
    {
      "cell_type": "code",
      "execution_count": null,
      "metadata": {
        "id": "89WEQelgrzXX"
      },
      "outputs": [],
      "source": [
        "df['Logic Tree Name'] = df['Logic Tree Name'].str.strip()"
      ]
    },
    {
      "cell_type": "code",
      "execution_count": null,
      "metadata": {
        "colab": {
          "base_uri": "https://localhost:8080/"
        },
        "id": "yr8rcvA-VzGt",
        "outputId": "db5c7590-5fa8-4286-cf08-b6f3a588ef7b"
      },
      "outputs": [
        {
          "output_type": "execute_result",
          "data": {
            "text/plain": [
              "array(['Abs light on', 'Ac not working', 'All 4 wheel drive not working',\n",
              "       'Back up camera not working', 'Battery drain when vehicle is off',\n",
              "       'Coolant leak', 'Engine overheating', 'Engine oil leak',\n",
              "       'Exhaust leak noise', 'Low engine oil pressure level',\n",
              "       'Low power hard acceleration', 'Misfire', 'No heat from hvac',\n",
              "       'No start', 'Power window not working', 'Steering problems',\n",
              "       'Windshield wipers inoperative', 'Logic Tree Name',\n",
              "       'Driveline shudder noise binding'], dtype=object)"
            ]
          },
          "metadata": {},
          "execution_count": 49
        }
      ],
      "source": [
        "df['Logic Tree Name'].unique()"
      ]
    },
    {
      "cell_type": "code",
      "execution_count": null,
      "metadata": {
        "colab": {
          "base_uri": "https://localhost:8080/"
        },
        "id": "riaRZ92eZQQ3",
        "outputId": "39c5c6b1-eb4c-4f3a-cfac-a96fdf9e1762"
      },
      "outputs": [
        {
          "output_type": "execute_result",
          "data": {
            "text/plain": [
              "19"
            ]
          },
          "metadata": {},
          "execution_count": 50
        }
      ],
      "source": [
        "len(df['Logic Tree Name'].unique())"
      ]
    },
    {
      "cell_type": "code",
      "execution_count": null,
      "metadata": {
        "colab": {
          "base_uri": "https://localhost:8080/",
          "height": 796
        },
        "id": "dYaJhQ0NByyG",
        "outputId": "9d619471-b614-45c2-fb11-9e2b29ff8e57"
      },
      "outputs": [
        {
          "output_type": "stream",
          "name": "stdout",
          "text": [
            "Logic Tree Name\n",
            "Abs light on                          577\n",
            "Ac not working                       2024\n",
            "All 4 wheel drive not working         482\n",
            "Back up camera not working            154\n",
            "Battery drain when vehicle is off     383\n",
            "Coolant leak                          578\n",
            "Driveline shudder noise binding         2\n",
            "Engine oil leak                       485\n",
            "Engine overheating                    490\n",
            "Exhaust leak noise                     86\n",
            "Logic Tree Name                         1\n",
            "Low engine oil pressure level         119\n",
            "Low power hard acceleration          1111\n",
            "Misfire                               230\n",
            "No heat from hvac                     678\n",
            "No start                             1508\n",
            "Power window not working             1096\n",
            "Steering problems                    1465\n",
            "Windshield wipers inoperative         421\n",
            "dtype: int64\n"
          ]
        },
        {
          "output_type": "display_data",
          "data": {
            "text/plain": [
              "<Figure size 432x288 with 1 Axes>"
            ],
            "image/png": "[encoded data removed]"
          },
          "metadata": {
            "needs_background": "light"
          }
        }
      ],
      "source": [
        "#Check the number of occurances of each label\n",
        "print(df.groupby('Logic Tree Name').size())\n",
        " \n",
        "# Plotting the bar chart\n",
        "%matplotlib inline\n",
        "df.groupby('Logic Tree Name').size().plot(kind='bar');"
      ]
    },
    {
      "cell_type": "code",
      "execution_count": null,
      "metadata": {
        "id": "yIKDbmuX67KT"
      },
      "outputs": [],
      "source": [
        "# Pre-process the text data\n",
        "def preprocess_text(text):\n",
        "    # Remove special characters and numbers\n",
        "    text = gensim.utils.simple_preprocess(text)\n",
        "    return text"
      ]
    },
    {
      "cell_type": "code",
      "execution_count": null,
      "metadata": {
        "id": "NiweRrtHCOcG"
      },
      "outputs": [],
      "source": [
        "def remove_after_tab(sentence):\n",
        "    # Find the index of the first occurrence of '\\t'\n",
        "    index = sentence.find('\\t')\n",
        "    \n",
        "    # If there is no '\\t' in the sentence, return the original sentence\n",
        "    if index == -1:\n",
        "        return sentence\n",
        "    \n",
        "    # Otherwise, return the sentence up to the index of the first '\\t'\n",
        "    return sentence[:index]"
      ]
    },
    {
      "cell_type": "code",
      "execution_count": null,
      "metadata": {
        "colab": {
          "base_uri": "https://localhost:8080/",
          "height": 88
        },
        "id": "g9mj5eKDBQyi",
        "outputId": "63ccd326-a02b-46be-ce86-411c400a7922"
      },
      "outputs": [
        {
          "output_type": "execute_result",
          "data": {
            "text/plain": [
              "\" ABS action occurred a year ago when I stopped and ran over a pothole, brakes went to the floor. Over the next couple of days the brakes returned to normal. It has happened a few times since. The last time, the pedal did not return to it's normal firmness. Tried to have the brakes bled. Just spent $350 replacing the rear pads, rotors and calipers.... brake pedal still goes all the way to the floor. I have to pump my brakes every time I stop. This is a known issue and Ford should issue a recall.\\t\\t\\t\\t- Bob K.,\\t\\t\\t\\tCincinnati, OH, US\""
            ],
            "application/vnd.google.colaboratory.intrinsic+json": {
              "type": "string"
            }
          },
          "metadata": {},
          "execution_count": 54
        }
      ],
      "source": [
        "df['description'].iloc[0]"
      ]
    },
    {
      "cell_type": "code",
      "execution_count": null,
      "metadata": {
        "id": "EHvQjor-r5F1"
      },
      "outputs": [],
      "source": [
        "df['description'] = df['description'].apply(remove_after_tab)"
      ]
    },
    {
      "cell_type": "code",
      "execution_count": null,
      "metadata": {
        "colab": {
          "base_uri": "https://localhost:8080/",
          "height": 88
        },
        "id": "UGS2VQjAbgsK",
        "outputId": "2d1a1248-0f54-4581-c8f3-0b32259c6d82"
      },
      "outputs": [
        {
          "output_type": "execute_result",
          "data": {
            "text/plain": [
              "\" ABS action occurred a year ago when I stopped and ran over a pothole, brakes went to the floor. Over the next couple of days the brakes returned to normal. It has happened a few times since. The last time, the pedal did not return to it's normal firmness. Tried to have the brakes bled. Just spent $350 replacing the rear pads, rotors and calipers.... brake pedal still goes all the way to the floor. I have to pump my brakes every time I stop. This is a known issue and Ford should issue a recall.\""
            ],
            "application/vnd.google.colaboratory.intrinsic+json": {
              "type": "string"
            }
          },
          "metadata": {},
          "execution_count": 56
        }
      ],
      "source": [
        "df['description'].iloc[0]"
      ]
    },
    {
      "cell_type": "code",
      "execution_count": null,
      "metadata": {
        "id": "zuKuzXGOeCYO"
      },
      "outputs": [],
      "source": [
        "df['description'] = df['description'].apply(preprocess_text)"
      ]
    },
    {
      "cell_type": "code",
      "execution_count": null,
      "metadata": {
        "colab": {
          "base_uri": "https://localhost:8080/"
        },
        "id": "-jzXRKE8-jOR",
        "outputId": "09813763-dc3a-4653-a0ed-7bf7ce15cdde"
      },
      "outputs": [
        {
          "output_type": "execute_result",
          "data": {
            "text/plain": [
              "['abs',\n",
              " 'action',\n",
              " 'occurred',\n",
              " 'year',\n",
              " 'ago',\n",
              " 'when',\n",
              " 'stopped',\n",
              " 'and',\n",
              " 'ran',\n",
              " 'over',\n",
              " 'pothole',\n",
              " 'brakes',\n",
              " 'went',\n",
              " 'to',\n",
              " 'the',\n",
              " 'floor',\n",
              " 'over',\n",
              " 'the',\n",
              " 'next',\n",
              " 'couple',\n",
              " 'of',\n",
              " 'days',\n",
              " 'the',\n",
              " 'brakes',\n",
              " 'returned',\n",
              " 'to',\n",
              " 'normal',\n",
              " 'it',\n",
              " 'has',\n",
              " 'happened',\n",
              " 'few',\n",
              " 'times',\n",
              " 'since',\n",
              " 'the',\n",
              " 'last',\n",
              " 'time',\n",
              " 'the',\n",
              " 'pedal',\n",
              " 'did',\n",
              " 'not',\n",
              " 'return',\n",
              " 'to',\n",
              " 'it',\n",
              " 'normal',\n",
              " 'firmness',\n",
              " 'tried',\n",
              " 'to',\n",
              " 'have',\n",
              " 'the',\n",
              " 'brakes',\n",
              " 'bled',\n",
              " 'just',\n",
              " 'spent',\n",
              " 'replacing',\n",
              " 'the',\n",
              " 'rear',\n",
              " 'pads',\n",
              " 'rotors',\n",
              " 'and',\n",
              " 'calipers',\n",
              " 'brake',\n",
              " 'pedal',\n",
              " 'still',\n",
              " 'goes',\n",
              " 'all',\n",
              " 'the',\n",
              " 'way',\n",
              " 'to',\n",
              " 'the',\n",
              " 'floor',\n",
              " 'have',\n",
              " 'to',\n",
              " 'pump',\n",
              " 'my',\n",
              " 'brakes',\n",
              " 'every',\n",
              " 'time',\n",
              " 'stop',\n",
              " 'this',\n",
              " 'is',\n",
              " 'known',\n",
              " 'issue',\n",
              " 'and',\n",
              " 'ford',\n",
              " 'should',\n",
              " 'issue',\n",
              " 'recall']"
            ]
          },
          "metadata": {},
          "execution_count": 58
        }
      ],
      "source": [
        "df['description'].iloc[0]"
      ]
    },
    {
      "cell_type": "code",
      "execution_count": null,
      "metadata": {
        "id": "CY7MEMqslP8q"
      },
      "outputs": [],
      "source": [
        "# Train a word2vec model on the text data\n",
        "wv_model = Word2Vec(df['description'], vector_size=100, window=5, min_count=1, workers=4)\n"
      ]
    },
    {
      "cell_type": "code",
      "execution_count": null,
      "metadata": {
        "id": "XjS2k02n7FOT"
      },
      "outputs": [],
      "source": [
        "# Create the features\n",
        "def get_vector(text):\n",
        "    vector = np.zeros(100)\n",
        "    count = 0\n",
        "    for word in text:\n",
        "        try:\n",
        "            vector += wv_model.wv[word]\n",
        "            count += 1\n",
        "        except KeyError:\n",
        "            pass\n",
        "    if count != 0:\n",
        "        vector /= count\n",
        "    return vector"
      ]
    },
    {
      "cell_type": "code",
      "execution_count": null,
      "metadata": {
        "id": "newJbfEHdgcv"
      },
      "outputs": [],
      "source": [
        "df['features'] = df['description'].apply(get_vector)"
      ]
    },
    {
      "cell_type": "markdown",
      "metadata": {
        "id": "B0QneKzjoCB8"
      },
      "source": [
        "# Models"
      ]
    },
    {
      "cell_type": "code",
      "execution_count": null,
      "metadata": {
        "colab": {
          "base_uri": "https://localhost:8080/"
        },
        "id": "-KlgY9sNYZWJ",
        "outputId": "c0e8a2b4-5ba4-4781-dfdf-2750cb0ce549"
      },
      "outputs": [
        {
          "output_type": "execute_result",
          "data": {
            "text/plain": [
              "19"
            ]
          },
          "metadata": {},
          "execution_count": 62
        }
      ],
      "source": [
        "len(df['Logic Tree Name'].unique())"
      ]
    },
    {
      "cell_type": "code",
      "execution_count": null,
      "metadata": {
        "colab": {
          "base_uri": "https://localhost:8080/"
        },
        "id": "3KA4UL1XXwsA",
        "outputId": "70f26fc4-e93d-46f0-9fd4-70fedeafe329"
      },
      "outputs": [
        {
          "output_type": "stream",
          "name": "stdout",
          "text": [
            "Ac not working                       2024\n",
            "No start                             1508\n",
            "Steering problems                    1465\n",
            "Low power hard acceleration          1111\n",
            "Power window not working             1096\n",
            "No heat from hvac                     678\n",
            "Coolant leak                          578\n",
            "Abs light on                          577\n",
            "Engine overheating                    490\n",
            "Engine oil leak                       485\n",
            "All 4 wheel drive not working         482\n",
            "Windshield wipers inoperative         421\n",
            "Battery drain when vehicle is off     383\n",
            "Misfire                               230\n",
            "Back up camera not working            154\n",
            "Low engine oil pressure level         119\n",
            "Exhaust leak noise                     86\n",
            "Driveline shudder noise binding         2\n",
            "Logic Tree Name                         1\n",
            "Name: Logic Tree Name, dtype: int64\n",
            "Logic Tree Name\n"
          ]
        }
      ],
      "source": [
        "class_counts = df['Logic Tree Name'].value_counts()\n",
        "print(class_counts)\n",
        "# Get the name of the least populated class\n",
        "least_populated_class = class_counts.index[-1]\n",
        "print(least_populated_class)\n",
        "# Filter out rows belonging to the least populated class\n",
        "df = df[df['Logic Tree Name'] != least_populated_class]"
      ]
    },
    {
      "cell_type": "code",
      "execution_count": null,
      "metadata": {
        "colab": {
          "base_uri": "https://localhost:8080/"
        },
        "id": "1PCdIqo1YL2E",
        "outputId": "eb5b7ac5-f921-4418-d577-86015e97e179"
      },
      "outputs": [
        {
          "output_type": "execute_result",
          "data": {
            "text/plain": [
              "18"
            ]
          },
          "metadata": {},
          "execution_count": 70
        }
      ],
      "source": [
        "len(df['Logic Tree Name'].unique())"
      ]
    },
    {
      "cell_type": "code",
      "execution_count": null,
      "metadata": {
        "id": "7BXTGbRF7LuW"
      },
      "outputs": [],
      "source": [
        "# Create the labels\n",
        "labels = df['Logic Tree Name']"
      ]
    },
    {
      "cell_type": "code",
      "execution_count": null,
      "metadata": {
        "colab": {
          "base_uri": "https://localhost:8080/"
        },
        "id": "ygI-PlMRr1eg",
        "outputId": "c74bd4d3-20f8-4580-a4c9-5742e38cfec2"
      },
      "outputs": [
        {
          "output_type": "execute_result",
          "data": {
            "text/plain": [
              "11889"
            ]
          },
          "metadata": {},
          "execution_count": 72
        }
      ],
      "source": [
        "len(labels)"
      ]
    },
    {
      "cell_type": "code",
      "execution_count": null,
      "metadata": {
        "id": "x64u3Cst7UmB"
      },
      "outputs": [],
      "source": [
        "# Split the data into training and testing sets\n",
        "train_features, test_features, train_labels, test_labels = train_test_split(df['features'].tolist(), labels, test_size=0.2, stratify=labels)"
      ]
    },
    {
      "cell_type": "code",
      "execution_count": null,
      "metadata": {
        "id": "DhiXW4CuxUD0"
      },
      "outputs": [],
      "source": [
        "# X_train, X_val, y_train, y_val = train_test_split(X, y, test_size=0.2, random_state=1)"
      ]
    },
    {
      "cell_type": "code",
      "execution_count": null,
      "metadata": {
        "colab": {
          "base_uri": "https://localhost:8080/",
          "height": 213
        },
        "id": "hATbAVfQ7YM2",
        "outputId": "83eed9df-aef7-4d0b-907b-d0f37fa6d9c4"
      },
      "outputs": [
        {
          "output_type": "stream",
          "name": "stderr",
          "text": [
            "/usr/local/lib/python3.9/dist-packages/sklearn/linear_model/_logistic.py:458: ConvergenceWarning: lbfgs failed to converge (status=1):\n",
            "STOP: TOTAL NO. of ITERATIONS REACHED LIMIT.\n",
            "\n",
            "Increase the number of iterations (max_iter) or scale the data as shown in:\n",
            "    https://scikit-learn.org/stable/modules/preprocessing.html\n",
            "Please also refer to the documentation for alternative solver options:\n",
            "    https://scikit-learn.org/stable/modules/linear_model.html#logistic-regression\n",
            "  n_iter_i = _check_optimize_result(\n"
          ]
        },
        {
          "output_type": "execute_result",
          "data": {
            "text/plain": [
              "LogisticRegression()"
            ],
            "text/html": [
              "<style>#sk-container-id-4 {color: black;background-color: white;}#sk-container-id-4 pre{padding: 0;}#sk-container-id-4 div.sk-toggleable {background-color: white;}#sk-container-id-4 label.sk-toggleable__label {cursor: pointer;display: block;width: 100%;margin-bottom: 0;padding: 0.3em;box-sizing: border-box;text-align: center;}#sk-container-id-4 label.sk-toggleable__label-arrow:before {content: \"▸\";float: left;margin-right: 0.25em;color: #696969;}#sk-container-id-4 label.sk-toggleable__label-arrow:hover:before {color: black;}#sk-container-id-4 div.sk-estimator:hover label.sk-toggleable__label-arrow:before {color: black;}#sk-container-id-4 div.sk-toggleable__content {max-height: 0;max-width: 0;overflow: hidden;text-align: left;background-color: #f0f8ff;}#sk-container-id-4 div.sk-toggleable__content pre {margin: 0.2em;color: black;border-radius: 0.25em;background-color: #f0f8ff;}#sk-container-id-4 input.sk-toggleable__control:checked~div.sk-toggleable__content {max-height: 200px;max-width: 100%;overflow: auto;}#sk-container-id-4 input.sk-toggleable__control:checked~label.sk-toggleable__label-arrow:before {content: \"▾\";}#sk-container-id-4 div.sk-estimator input.sk-toggleable__control:checked~label.sk-toggleable__label {background-color: #d4ebff;}#sk-container-id-4 div.sk-label input.sk-toggleable__control:checked~label.sk-toggleable__label {background-color: #d4ebff;}#sk-container-id-4 input.sk-hidden--visually {border: 0;clip: rect(1px 1px 1px 1px);clip: rect(1px, 1px, 1px, 1px);height: 1px;margin: -1px;overflow: hidden;padding: 0;position: absolute;width: 1px;}#sk-container-id-4 div.sk-estimator {font-family: monospace;background-color: #f0f8ff;border: 1px dotted black;border-radius: 0.25em;box-sizing: border-box;margin-bottom: 0.5em;}#sk-container-id-4 div.sk-estimator:hover {background-color: #d4ebff;}#sk-container-id-4 div.sk-parallel-item::after {content: \"\";width: 100%;border-bottom: 1px solid gray;flex-grow: 1;}#sk-container-id-4 div.sk-label:hover label.sk-toggleable__label {background-color: #d4ebff;}#sk-container-id-4 div.sk-serial::before {content: \"\";position: absolute;border-left: 1px solid gray;box-sizing: border-box;top: 0;bottom: 0;left: 50%;z-index: 0;}#sk-container-id-4 div.sk-serial {display: flex;flex-direction: column;align-items: center;background-color: white;padding-right: 0.2em;padding-left: 0.2em;position: relative;}#sk-container-id-4 div.sk-item {position: relative;z-index: 1;}#sk-container-id-4 div.sk-parallel {display: flex;align-items: stretch;justify-content: center;background-color: white;position: relative;}#sk-container-id-4 div.sk-item::before, #sk-container-id-4 div.sk-parallel-item::before {content: \"\";position: absolute;border-left: 1px solid gray;box-sizing: border-box;top: 0;bottom: 0;left: 50%;z-index: -1;}#sk-container-id-4 div.sk-parallel-item {display: flex;flex-direction: column;z-index: 1;position: relative;background-color: white;}#sk-container-id-4 div.sk-parallel-item:first-child::after {align-self: flex-end;width: 50%;}#sk-container-id-4 div.sk-parallel-item:last-child::after {align-self: flex-start;width: 50%;}#sk-container-id-4 div.sk-parallel-item:only-child::after {width: 0;}#sk-container-id-4 div.sk-dashed-wrapped {border: 1px dashed gray;margin: 0 0.4em 0.5em 0.4em;box-sizing: border-box;padding-bottom: 0.4em;background-color: white;}#sk-container-id-4 div.sk-label label {font-family: monospace;font-weight: bold;display: inline-block;line-height: 1.2em;}#sk-container-id-4 div.sk-label-container {text-align: center;}#sk-container-id-4 div.sk-container {/* jupyter's `normalize.less` sets `[hidden] { display: none; }` but bootstrap.min.css set `[hidden] { display: none !important; }` so we also need the `!important` here to be able to override the default hidden behavior on the sphinx rendered scikit-learn.org. See: https://github.com/scikit-learn/scikit-learn/issues/21755 */display: inline-block !important;position: relative;}#sk-container-id-4 div.sk-text-repr-fallback {display: none;}</style><div id=\"sk-container-id-4\" class=\"sk-top-container\"><div class=\"sk-text-repr-fallback\"><pre>LogisticRegression()</pre><b>In a Jupyter environment, please rerun this cell to show the HTML representation or trust the notebook. <br />On GitHub, the HTML representation is unable to render, please try loading this page with nbviewer.org.</b></div><div class=\"sk-container\" hidden><div class=\"sk-item\"><div class=\"sk-estimator sk-toggleable\"><input class=\"sk-toggleable__control sk-hidden--visually\" id=\"sk-estimator-id-4\" type=\"checkbox\" checked><label for=\"sk-estimator-id-4\" class=\"sk-toggleable__label sk-toggleable__label-arrow\">LogisticRegression</label><div class=\"sk-toggleable__content\"><pre>LogisticRegression()</pre></div></div></div></div></div>"
            ]
          },
          "metadata": {},
          "execution_count": 78
        }
      ],
      "source": [
        "# Train the model\n",
        "lr_model = LogisticRegression()\n",
        "lr_model.fit(train_features, train_labels)"
      ]
    },
    {
      "cell_type": "code",
      "execution_count": null,
      "metadata": {
        "colab": {
          "base_uri": "https://localhost:8080/"
        },
        "id": "89QHcqBxa3Wc",
        "outputId": "b01eaf8d-56dd-4f33-af47-176baf06a299"
      },
      "outputs": [
        {
          "output_type": "stream",
          "name": "stdout",
          "text": [
            "2378\n"
          ]
        }
      ],
      "source": [
        "y_pred = lr_model.predict(test_features)\n",
        "print(len(y_pred))"
      ]
    },
    {
      "cell_type": "code",
      "execution_count": null,
      "metadata": {
        "id": "ri6zwjpyt-7T"
      },
      "outputs": [],
      "source": [
        "test_labels=test_labels.tolist()"
      ]
    },
    {
      "cell_type": "code",
      "execution_count": null,
      "metadata": {
        "colab": {
          "base_uri": "https://localhost:8080/",
          "height": 36
        },
        "id": "eLP38d5rp9rF",
        "outputId": "674f4fba-9f68-4569-c199-556db82bed10"
      },
      "outputs": [
        {
          "output_type": "execute_result",
          "data": {
            "text/plain": [
              "'Power window not working'"
            ],
            "application/vnd.google.colaboratory.intrinsic+json": {
              "type": "string"
            }
          },
          "metadata": {},
          "execution_count": 81
        }
      ],
      "source": [
        "test_labels[1]"
      ]
    },
    {
      "cell_type": "code",
      "execution_count": null,
      "metadata": {
        "id": "i_c1StjTa_uR"
      },
      "outputs": [],
      "source": [
        "# index=[]\n",
        "# for i in range(len(y_pred)):\n",
        "#   print(y_pred[i])\n",
        "#   print(test_labels[i])\n",
        "#   if y_pred[i] == test_labels[i]:\n",
        "#     index.append(i)"
      ]
    },
    {
      "cell_type": "code",
      "execution_count": null,
      "metadata": {
        "colab": {
          "base_uri": "https://localhost:8080/"
        },
        "id": "43OOoi55bJbA",
        "outputId": "99bbe235-80a0-4256-ba92-45f6f610859e"
      },
      "outputs": [
        {
          "output_type": "execute_result",
          "data": {
            "text/plain": [
              "['Ac not working',\n",
              " 'Power window not working',\n",
              " 'Steering problems',\n",
              " 'Ac not working',\n",
              " 'Ac not working',\n",
              " 'Ac not working',\n",
              " 'Ac not working',\n",
              " 'Coolant leak',\n",
              " 'Battery drain when vehicle is off',\n",
              " 'No start']"
            ]
          },
          "metadata": {},
          "execution_count": 83
        }
      ],
      "source": [
        "test_labels[:10]"
      ]
    },
    {
      "cell_type": "code",
      "execution_count": null,
      "metadata": {
        "id": "jXQ8BZ1Ixiki"
      },
      "outputs": [],
      "source": [
        "# y_val_proba = lr_model.predict_proba(test_features)"
      ]
    },
    {
      "cell_type": "code",
      "execution_count": null,
      "metadata": {
        "colab": {
          "base_uri": "https://localhost:8080/"
        },
        "id": "rXUTUrGx7a88",
        "outputId": "6c38843d-f0e8-4f33-c549-286fd035da43"
      },
      "outputs": [
        {
          "output_type": "stream",
          "name": "stdout",
          "text": [
            "                                   precision    recall  f1-score   support\n",
            "\n",
            "                     Abs light on       0.50      0.50      0.50       115\n",
            "                   Ac not working       0.56      0.82      0.66       405\n",
            "    All 4 wheel drive not working       0.52      0.27      0.36        96\n",
            "       Back up camera not working       0.53      0.29      0.38        31\n",
            "Battery drain when vehicle is off       0.77      0.31      0.44        77\n",
            "                     Coolant leak       0.51      0.45      0.48       116\n",
            "                  Engine oil leak       0.58      0.66      0.62        97\n",
            "               Engine overheating       0.37      0.23      0.29        98\n",
            "               Exhaust leak noise       1.00      0.06      0.11        17\n",
            "    Low engine oil pressure level       0.50      0.25      0.33        24\n",
            "      Low power hard acceleration       0.54      0.64      0.58       222\n",
            "                          Misfire       0.21      0.07      0.10        46\n",
            "                No heat from hvac       0.58      0.15      0.24       136\n",
            "                         No start       0.62      0.76      0.68       302\n",
            "         Power window not working       0.81      0.77      0.79       219\n",
            "                Steering problems       0.72      0.80      0.76       293\n",
            "    Windshield wipers inoperative       0.72      0.49      0.58        84\n",
            "\n",
            "                         accuracy                           0.60      2378\n",
            "                        macro avg       0.59      0.44      0.47      2378\n",
            "                     weighted avg       0.60      0.60      0.58      2378\n",
            "\n"
          ]
        }
      ],
      "source": [
        "# Make predictions on the test data\n",
        "predictions = lr_model.predict(test_features)\n",
        "\n",
        "# Evaluate the model performance\n",
        "print(classification_report(test_labels, predictions))"
      ]
    },
    {
      "cell_type": "code",
      "execution_count": null,
      "metadata": {
        "id": "Br6CDwL4Oxvh"
      },
      "outputs": [],
      "source": [
        "# from sklearn.metrics import confusion_matrix\n",
        "# cm = confusion_matrix(test_features, test_labels)"
      ]
    },
    {
      "cell_type": "code",
      "execution_count": null,
      "metadata": {
        "colab": {
          "base_uri": "https://localhost:8080/",
          "height": 74
        },
        "id": "IXnc8bMcFdUi",
        "outputId": "4e910cb5-baf6-4378-9539-a1bc9c6d0f01"
      },
      "outputs": [
        {
          "output_type": "execute_result",
          "data": {
            "text/plain": [
              "RandomForestClassifier()"
            ],
            "text/html": [
              "<style>#sk-container-id-5 {color: black;background-color: white;}#sk-container-id-5 pre{padding: 0;}#sk-container-id-5 div.sk-toggleable {background-color: white;}#sk-container-id-5 label.sk-toggleable__label {cursor: pointer;display: block;width: 100%;margin-bottom: 0;padding: 0.3em;box-sizing: border-box;text-align: center;}#sk-container-id-5 label.sk-toggleable__label-arrow:before {content: \"▸\";float: left;margin-right: 0.25em;color: #696969;}#sk-container-id-5 label.sk-toggleable__label-arrow:hover:before {color: black;}#sk-container-id-5 div.sk-estimator:hover label.sk-toggleable__label-arrow:before {color: black;}#sk-container-id-5 div.sk-toggleable__content {max-height: 0;max-width: 0;overflow: hidden;text-align: left;background-color: #f0f8ff;}#sk-container-id-5 div.sk-toggleable__content pre {margin: 0.2em;color: black;border-radius: 0.25em;background-color: #f0f8ff;}#sk-container-id-5 input.sk-toggleable__control:checked~div.sk-toggleable__content {max-height: 200px;max-width: 100%;overflow: auto;}#sk-container-id-5 input.sk-toggleable__control:checked~label.sk-toggleable__label-arrow:before {content: \"▾\";}#sk-container-id-5 div.sk-estimator input.sk-toggleable__control:checked~label.sk-toggleable__label {background-color: #d4ebff;}#sk-container-id-5 div.sk-label input.sk-toggleable__control:checked~label.sk-toggleable__label {background-color: #d4ebff;}#sk-container-id-5 input.sk-hidden--visually {border: 0;clip: rect(1px 1px 1px 1px);clip: rect(1px, 1px, 1px, 1px);height: 1px;margin: -1px;overflow: hidden;padding: 0;position: absolute;width: 1px;}#sk-container-id-5 div.sk-estimator {font-family: monospace;background-color: #f0f8ff;border: 1px dotted black;border-radius: 0.25em;box-sizing: border-box;margin-bottom: 0.5em;}#sk-container-id-5 div.sk-estimator:hover {background-color: #d4ebff;}#sk-container-id-5 div.sk-parallel-item::after {content: \"\";width: 100%;border-bottom: 1px solid gray;flex-grow: 1;}#sk-container-id-5 div.sk-label:hover label.sk-toggleable__label {background-color: #d4ebff;}#sk-container-id-5 div.sk-serial::before {content: \"\";position: absolute;border-left: 1px solid gray;box-sizing: border-box;top: 0;bottom: 0;left: 50%;z-index: 0;}#sk-container-id-5 div.sk-serial {display: flex;flex-direction: column;align-items: center;background-color: white;padding-right: 0.2em;padding-left: 0.2em;position: relative;}#sk-container-id-5 div.sk-item {position: relative;z-index: 1;}#sk-container-id-5 div.sk-parallel {display: flex;align-items: stretch;justify-content: center;background-color: white;position: relative;}#sk-container-id-5 div.sk-item::before, #sk-container-id-5 div.sk-parallel-item::before {content: \"\";position: absolute;border-left: 1px solid gray;box-sizing: border-box;top: 0;bottom: 0;left: 50%;z-index: -1;}#sk-container-id-5 div.sk-parallel-item {display: flex;flex-direction: column;z-index: 1;position: relative;background-color: white;}#sk-container-id-5 div.sk-parallel-item:first-child::after {align-self: flex-end;width: 50%;}#sk-container-id-5 div.sk-parallel-item:last-child::after {align-self: flex-start;width: 50%;}#sk-container-id-5 div.sk-parallel-item:only-child::after {width: 0;}#sk-container-id-5 div.sk-dashed-wrapped {border: 1px dashed gray;margin: 0 0.4em 0.5em 0.4em;box-sizing: border-box;padding-bottom: 0.4em;background-color: white;}#sk-container-id-5 div.sk-label label {font-family: monospace;font-weight: bold;display: inline-block;line-height: 1.2em;}#sk-container-id-5 div.sk-label-container {text-align: center;}#sk-container-id-5 div.sk-container {/* jupyter's `normalize.less` sets `[hidden] { display: none; }` but bootstrap.min.css set `[hidden] { display: none !important; }` so we also need the `!important` here to be able to override the default hidden behavior on the sphinx rendered scikit-learn.org. See: https://github.com/scikit-learn/scikit-learn/issues/21755 */display: inline-block !important;position: relative;}#sk-container-id-5 div.sk-text-repr-fallback {display: none;}</style><div id=\"sk-container-id-5\" class=\"sk-top-container\"><div class=\"sk-text-repr-fallback\"><pre>RandomForestClassifier()</pre><b>In a Jupyter environment, please rerun this cell to show the HTML representation or trust the notebook. <br />On GitHub, the HTML representation is unable to render, please try loading this page with nbviewer.org.</b></div><div class=\"sk-container\" hidden><div class=\"sk-item\"><div class=\"sk-estimator sk-toggleable\"><input class=\"sk-toggleable__control sk-hidden--visually\" id=\"sk-estimator-id-5\" type=\"checkbox\" checked><label for=\"sk-estimator-id-5\" class=\"sk-toggleable__label sk-toggleable__label-arrow\">RandomForestClassifier</label><div class=\"sk-toggleable__content\"><pre>RandomForestClassifier()</pre></div></div></div></div></div>"
            ]
          },
          "metadata": {},
          "execution_count": 86
        }
      ],
      "source": [
        "# Train the model\n",
        "rf_model = RandomForestClassifier()\n",
        "rf_model.fit(train_features, train_labels)"
      ]
    },
    {
      "cell_type": "code",
      "execution_count": null,
      "metadata": {
        "colab": {
          "base_uri": "https://localhost:8080/"
        },
        "id": "NhGBiqOrGVwE",
        "outputId": "68f8c911-3c1c-42cd-f0f6-bd04bd2cd265"
      },
      "outputs": [
        {
          "output_type": "stream",
          "name": "stdout",
          "text": [
            "                                   precision    recall  f1-score   support\n",
            "\n",
            "                     Abs light on       0.55      0.25      0.35       115\n",
            "                   Ac not working       0.48      0.86      0.62       405\n",
            "    All 4 wheel drive not working       0.98      0.83      0.90        96\n",
            "       Back up camera not working       1.00      0.52      0.68        31\n",
            "Battery drain when vehicle is off       0.67      0.08      0.14        77\n",
            "                     Coolant leak       0.84      0.88      0.86       116\n",
            "                  Engine oil leak       0.89      0.90      0.89        97\n",
            "               Engine overheating       0.91      0.71      0.80        98\n",
            "               Exhaust leak noise       1.00      0.76      0.87        17\n",
            "    Low engine oil pressure level       1.00      0.71      0.83        24\n",
            "      Low power hard acceleration       0.76      0.83      0.80       222\n",
            "                          Misfire       1.00      0.07      0.12        46\n",
            "                No heat from hvac       0.14      0.01      0.03       136\n",
            "                         No start       0.61      0.71      0.65       302\n",
            "         Power window not working       0.80      0.68      0.74       219\n",
            "                Steering problems       0.66      0.75      0.70       293\n",
            "    Windshield wipers inoperative       0.93      0.44      0.60        84\n",
            "\n",
            "                         accuracy                           0.66      2378\n",
            "                        macro avg       0.78      0.59      0.62      2378\n",
            "                     weighted avg       0.68      0.66      0.63      2378\n",
            "\n"
          ]
        }
      ],
      "source": [
        "# Make predictions on the test data\n",
        "predictions = rf_model.predict(test_features)\n",
        "\n",
        "# Evaluate the model performance\n",
        "print(classification_report(test_labels, predictions))"
      ]
    },
    {
      "cell_type": "code",
      "execution_count": null,
      "metadata": {
        "colab": {
          "base_uri": "https://localhost:8080/",
          "height": 74
        },
        "id": "uFC32b_7Gbe4",
        "outputId": "b1057597-433b-4959-ab0d-fa7c81f2e5d6"
      },
      "outputs": [
        {
          "output_type": "execute_result",
          "data": {
            "text/plain": [
              "DecisionTreeClassifier()"
            ],
            "text/html": [
              "<style>#sk-container-id-7 {color: black;background-color: white;}#sk-container-id-7 pre{padding: 0;}#sk-container-id-7 div.sk-toggleable {background-color: white;}#sk-container-id-7 label.sk-toggleable__label {cursor: pointer;display: block;width: 100%;margin-bottom: 0;padding: 0.3em;box-sizing: border-box;text-align: center;}#sk-container-id-7 label.sk-toggleable__label-arrow:before {content: \"▸\";float: left;margin-right: 0.25em;color: #696969;}#sk-container-id-7 label.sk-toggleable__label-arrow:hover:before {color: black;}#sk-container-id-7 div.sk-estimator:hover label.sk-toggleable__label-arrow:before {color: black;}#sk-container-id-7 div.sk-toggleable__content {max-height: 0;max-width: 0;overflow: hidden;text-align: left;background-color: #f0f8ff;}#sk-container-id-7 div.sk-toggleable__content pre {margin: 0.2em;color: black;border-radius: 0.25em;background-color: #f0f8ff;}#sk-container-id-7 input.sk-toggleable__control:checked~div.sk-toggleable__content {max-height: 200px;max-width: 100%;overflow: auto;}#sk-container-id-7 input.sk-toggleable__control:checked~label.sk-toggleable__label-arrow:before {content: \"▾\";}#sk-container-id-7 div.sk-estimator input.sk-toggleable__control:checked~label.sk-toggleable__label {background-color: #d4ebff;}#sk-container-id-7 div.sk-label input.sk-toggleable__control:checked~label.sk-toggleable__label {background-color: #d4ebff;}#sk-container-id-7 input.sk-hidden--visually {border: 0;clip: rect(1px 1px 1px 1px);clip: rect(1px, 1px, 1px, 1px);height: 1px;margin: -1px;overflow: hidden;padding: 0;position: absolute;width: 1px;}#sk-container-id-7 div.sk-estimator {font-family: monospace;background-color: #f0f8ff;border: 1px dotted black;border-radius: 0.25em;box-sizing: border-box;margin-bottom: 0.5em;}#sk-container-id-7 div.sk-estimator:hover {background-color: #d4ebff;}#sk-container-id-7 div.sk-parallel-item::after {content: \"\";width: 100%;border-bottom: 1px solid gray;flex-grow: 1;}#sk-container-id-7 div.sk-label:hover label.sk-toggleable__label {background-color: #d4ebff;}#sk-container-id-7 div.sk-serial::before {content: \"\";position: absolute;border-left: 1px solid gray;box-sizing: border-box;top: 0;bottom: 0;left: 50%;z-index: 0;}#sk-container-id-7 div.sk-serial {display: flex;flex-direction: column;align-items: center;background-color: white;padding-right: 0.2em;padding-left: 0.2em;position: relative;}#sk-container-id-7 div.sk-item {position: relative;z-index: 1;}#sk-container-id-7 div.sk-parallel {display: flex;align-items: stretch;justify-content: center;background-color: white;position: relative;}#sk-container-id-7 div.sk-item::before, #sk-container-id-7 div.sk-parallel-item::before {content: \"\";position: absolute;border-left: 1px solid gray;box-sizing: border-box;top: 0;bottom: 0;left: 50%;z-index: -1;}#sk-container-id-7 div.sk-parallel-item {display: flex;flex-direction: column;z-index: 1;position: relative;background-color: white;}#sk-container-id-7 div.sk-parallel-item:first-child::after {align-self: flex-end;width: 50%;}#sk-container-id-7 div.sk-parallel-item:last-child::after {align-self: flex-start;width: 50%;}#sk-container-id-7 div.sk-parallel-item:only-child::after {width: 0;}#sk-container-id-7 div.sk-dashed-wrapped {border: 1px dashed gray;margin: 0 0.4em 0.5em 0.4em;box-sizing: border-box;padding-bottom: 0.4em;background-color: white;}#sk-container-id-7 div.sk-label label {font-family: monospace;font-weight: bold;display: inline-block;line-height: 1.2em;}#sk-container-id-7 div.sk-label-container {text-align: center;}#sk-container-id-7 div.sk-container {/* jupyter's `normalize.less` sets `[hidden] { display: none; }` but bootstrap.min.css set `[hidden] { display: none !important; }` so we also need the `!important` here to be able to override the default hidden behavior on the sphinx rendered scikit-learn.org. See: https://github.com/scikit-learn/scikit-learn/issues/21755 */display: inline-block !important;position: relative;}#sk-container-id-7 div.sk-text-repr-fallback {display: none;}</style><div id=\"sk-container-id-7\" class=\"sk-top-container\"><div class=\"sk-text-repr-fallback\"><pre>DecisionTreeClassifier()</pre><b>In a Jupyter environment, please rerun this cell to show the HTML representation or trust the notebook. <br />On GitHub, the HTML representation is unable to render, please try loading this page with nbviewer.org.</b></div><div class=\"sk-container\" hidden><div class=\"sk-item\"><div class=\"sk-estimator sk-toggleable\"><input class=\"sk-toggleable__control sk-hidden--visually\" id=\"sk-estimator-id-7\" type=\"checkbox\" checked><label for=\"sk-estimator-id-7\" class=\"sk-toggleable__label sk-toggleable__label-arrow\">DecisionTreeClassifier</label><div class=\"sk-toggleable__content\"><pre>DecisionTreeClassifier()</pre></div></div></div></div></div>"
            ]
          },
          "metadata": {},
          "execution_count": 89
        }
      ],
      "source": [
        "# Train the model\n",
        "dt_model = DecisionTreeClassifier()\n",
        "dt_model.fit(train_features, train_labels)"
      ]
    },
    {
      "cell_type": "code",
      "execution_count": null,
      "metadata": {
        "colab": {
          "base_uri": "https://localhost:8080/"
        },
        "id": "hNoJSqFbGaSj",
        "outputId": "26740e62-9872-4c4d-e2ca-4f5014c96bf4"
      },
      "outputs": [
        {
          "output_type": "stream",
          "name": "stdout",
          "text": [
            "                                   precision    recall  f1-score   support\n",
            "\n",
            "                     Abs light on       0.27      0.24      0.26       115\n",
            "                   Ac not working       0.45      0.40      0.43       405\n",
            "    All 4 wheel drive not working       0.62      0.83      0.71        96\n",
            "       Back up camera not working       0.52      0.55      0.53        31\n",
            "Battery drain when vehicle is off       0.15      0.17      0.16        77\n",
            "                     Coolant leak       0.65      0.90      0.75       116\n",
            "                  Engine oil leak       0.68      0.86      0.76        97\n",
            "               Engine overheating       0.61      0.71      0.66        98\n",
            "               Exhaust leak noise       0.59      0.76      0.67        17\n",
            "    Low engine oil pressure level       0.81      0.71      0.76        24\n",
            "      Low power hard acceleration       0.61      0.76      0.68       222\n",
            "                          Misfire       0.14      0.11      0.12        46\n",
            "                No heat from hvac       0.20      0.17      0.18       136\n",
            "                         No start       0.55      0.42      0.47       302\n",
            "         Power window not working       0.54      0.46      0.50       219\n",
            "                Steering problems       0.48      0.48      0.48       293\n",
            "    Windshield wipers inoperative       0.45      0.48      0.47        84\n",
            "\n",
            "                         accuracy                           0.50      2378\n",
            "                        macro avg       0.49      0.53      0.50      2378\n",
            "                     weighted avg       0.49      0.50      0.49      2378\n",
            "\n"
          ]
        }
      ],
      "source": [
        "# Make predictions on the test data\n",
        "predictions = dt_model.predict(test_features)\n",
        "\n",
        "# Evaluate the model performance\n",
        "print(classification_report(test_labels, predictions))"
      ]
    },
    {
      "cell_type": "code",
      "execution_count": null,
      "metadata": {
        "colab": {
          "base_uri": "https://localhost:8080/",
          "height": 129
        },
        "id": "1SJbzvVcJNTu",
        "outputId": "2db717d1-edf6-41f5-985b-71b43813d67e"
      },
      "outputs": [
        {
          "output_type": "stream",
          "name": "stderr",
          "text": [
            "/usr/local/lib/python3.9/dist-packages/sklearn/svm/_base.py:1244: ConvergenceWarning: Liblinear failed to converge, increase the number of iterations.\n",
            "  warnings.warn(\n"
          ]
        },
        {
          "output_type": "execute_result",
          "data": {
            "text/plain": [
              "LinearSVC()"
            ],
            "text/html": [
              "<style>#sk-container-id-8 {color: black;background-color: white;}#sk-container-id-8 pre{padding: 0;}#sk-container-id-8 div.sk-toggleable {background-color: white;}#sk-container-id-8 label.sk-toggleable__label {cursor: pointer;display: block;width: 100%;margin-bottom: 0;padding: 0.3em;box-sizing: border-box;text-align: center;}#sk-container-id-8 label.sk-toggleable__label-arrow:before {content: \"▸\";float: left;margin-right: 0.25em;color: #696969;}#sk-container-id-8 label.sk-toggleable__label-arrow:hover:before {color: black;}#sk-container-id-8 div.sk-estimator:hover label.sk-toggleable__label-arrow:before {color: black;}#sk-container-id-8 div.sk-toggleable__content {max-height: 0;max-width: 0;overflow: hidden;text-align: left;background-color: #f0f8ff;}#sk-container-id-8 div.sk-toggleable__content pre {margin: 0.2em;color: black;border-radius: 0.25em;background-color: #f0f8ff;}#sk-container-id-8 input.sk-toggleable__control:checked~div.sk-toggleable__content {max-height: 200px;max-width: 100%;overflow: auto;}#sk-container-id-8 input.sk-toggleable__control:checked~label.sk-toggleable__label-arrow:before {content: \"▾\";}#sk-container-id-8 div.sk-estimator input.sk-toggleable__control:checked~label.sk-toggleable__label {background-color: #d4ebff;}#sk-container-id-8 div.sk-label input.sk-toggleable__control:checked~label.sk-toggleable__label {background-color: #d4ebff;}#sk-container-id-8 input.sk-hidden--visually {border: 0;clip: rect(1px 1px 1px 1px);clip: rect(1px, 1px, 1px, 1px);height: 1px;margin: -1px;overflow: hidden;padding: 0;position: absolute;width: 1px;}#sk-container-id-8 div.sk-estimator {font-family: monospace;background-color: #f0f8ff;border: 1px dotted black;border-radius: 0.25em;box-sizing: border-box;margin-bottom: 0.5em;}#sk-container-id-8 div.sk-estimator:hover {background-color: #d4ebff;}#sk-container-id-8 div.sk-parallel-item::after {content: \"\";width: 100%;border-bottom: 1px solid gray;flex-grow: 1;}#sk-container-id-8 div.sk-label:hover label.sk-toggleable__label {background-color: #d4ebff;}#sk-container-id-8 div.sk-serial::before {content: \"\";position: absolute;border-left: 1px solid gray;box-sizing: border-box;top: 0;bottom: 0;left: 50%;z-index: 0;}#sk-container-id-8 div.sk-serial {display: flex;flex-direction: column;align-items: center;background-color: white;padding-right: 0.2em;padding-left: 0.2em;position: relative;}#sk-container-id-8 div.sk-item {position: relative;z-index: 1;}#sk-container-id-8 div.sk-parallel {display: flex;align-items: stretch;justify-content: center;background-color: white;position: relative;}#sk-container-id-8 div.sk-item::before, #sk-container-id-8 div.sk-parallel-item::before {content: \"\";position: absolute;border-left: 1px solid gray;box-sizing: border-box;top: 0;bottom: 0;left: 50%;z-index: -1;}#sk-container-id-8 div.sk-parallel-item {display: flex;flex-direction: column;z-index: 1;position: relative;background-color: white;}#sk-container-id-8 div.sk-parallel-item:first-child::after {align-self: flex-end;width: 50%;}#sk-container-id-8 div.sk-parallel-item:last-child::after {align-self: flex-start;width: 50%;}#sk-container-id-8 div.sk-parallel-item:only-child::after {width: 0;}#sk-container-id-8 div.sk-dashed-wrapped {border: 1px dashed gray;margin: 0 0.4em 0.5em 0.4em;box-sizing: border-box;padding-bottom: 0.4em;background-color: white;}#sk-container-id-8 div.sk-label label {font-family: monospace;font-weight: bold;display: inline-block;line-height: 1.2em;}#sk-container-id-8 div.sk-label-container {text-align: center;}#sk-container-id-8 div.sk-container {/* jupyter's `normalize.less` sets `[hidden] { display: none; }` but bootstrap.min.css set `[hidden] { display: none !important; }` so we also need the `!important` here to be able to override the default hidden behavior on the sphinx rendered scikit-learn.org. See: https://github.com/scikit-learn/scikit-learn/issues/21755 */display: inline-block !important;position: relative;}#sk-container-id-8 div.sk-text-repr-fallback {display: none;}</style><div id=\"sk-container-id-8\" class=\"sk-top-container\"><div class=\"sk-text-repr-fallback\"><pre>LinearSVC()</pre><b>In a Jupyter environment, please rerun this cell to show the HTML representation or trust the notebook. <br />On GitHub, the HTML representation is unable to render, please try loading this page with nbviewer.org.</b></div><div class=\"sk-container\" hidden><div class=\"sk-item\"><div class=\"sk-estimator sk-toggleable\"><input class=\"sk-toggleable__control sk-hidden--visually\" id=\"sk-estimator-id-8\" type=\"checkbox\" checked><label for=\"sk-estimator-id-8\" class=\"sk-toggleable__label sk-toggleable__label-arrow\">LinearSVC</label><div class=\"sk-toggleable__content\"><pre>LinearSVC()</pre></div></div></div></div></div>"
            ]
          },
          "metadata": {},
          "execution_count": 91
        }
      ],
      "source": [
        "# Train the model\n",
        "svc_model = LinearSVC()\n",
        "svc_model.fit(train_features, train_labels)"
      ]
    },
    {
      "cell_type": "code",
      "execution_count": null,
      "metadata": {
        "colab": {
          "base_uri": "https://localhost:8080/"
        },
        "id": "_o1Lnf9UJXwj",
        "outputId": "00a77728-506d-4280-ebba-271894da51e3"
      },
      "outputs": [
        {
          "output_type": "stream",
          "name": "stdout",
          "text": [
            "                                   precision    recall  f1-score   support\n",
            "\n",
            "                     Abs light on       0.53      0.54      0.53       115\n",
            "                   Ac not working       0.53      0.84      0.65       405\n",
            "    All 4 wheel drive not working       0.60      0.25      0.35        96\n",
            "       Back up camera not working       0.71      0.32      0.44        31\n",
            "Battery drain when vehicle is off       0.75      0.27      0.40        77\n",
            "                     Coolant leak       0.49      0.52      0.50       116\n",
            "                  Engine oil leak       0.59      0.66      0.62        97\n",
            "               Engine overheating       0.32      0.06      0.10        98\n",
            "               Exhaust leak noise       0.00      0.00      0.00        17\n",
            "    Low engine oil pressure level       0.43      0.12      0.19        24\n",
            "      Low power hard acceleration       0.60      0.66      0.63       222\n",
            "                          Misfire       0.00      0.00      0.00        46\n",
            "                No heat from hvac       0.54      0.10      0.17       136\n",
            "                         No start       0.61      0.76      0.68       302\n",
            "         Power window not working       0.75      0.80      0.78       219\n",
            "                Steering problems       0.72      0.84      0.78       293\n",
            "    Windshield wipers inoperative       0.76      0.50      0.60        84\n",
            "\n",
            "                         accuracy                           0.61      2378\n",
            "                        macro avg       0.53      0.43      0.44      2378\n",
            "                     weighted avg       0.59      0.61      0.57      2378\n",
            "\n"
          ]
        },
        {
          "output_type": "stream",
          "name": "stderr",
          "text": [
            "/usr/local/lib/python3.9/dist-packages/sklearn/metrics/_classification.py:1344: UndefinedMetricWarning: Precision and F-score are ill-defined and being set to 0.0 in labels with no predicted samples. Use `zero_division` parameter to control this behavior.\n",
            "  _warn_prf(average, modifier, msg_start, len(result))\n",
            "/usr/local/lib/python3.9/dist-packages/sklearn/metrics/_classification.py:1344: UndefinedMetricWarning: Precision and F-score are ill-defined and being set to 0.0 in labels with no predicted samples. Use `zero_division` parameter to control this behavior.\n",
            "  _warn_prf(average, modifier, msg_start, len(result))\n",
            "/usr/local/lib/python3.9/dist-packages/sklearn/metrics/_classification.py:1344: UndefinedMetricWarning: Precision and F-score are ill-defined and being set to 0.0 in labels with no predicted samples. Use `zero_division` parameter to control this behavior.\n",
            "  _warn_prf(average, modifier, msg_start, len(result))\n"
          ]
        }
      ],
      "source": [
        "# Make predictions on the test data\n",
        "predictions = svc_model.predict(test_features)\n",
        "\n",
        "# Evaluate the model performance\n",
        "print(classification_report(test_labels, predictions))"
      ]
    },
    {
      "cell_type": "code",
      "execution_count": null,
      "metadata": {
        "id": "xJ5VjPIx6nBP"
      },
      "outputs": [],
      "source": [
        "label_problem = df['Logic Tree Name'].unique()"
      ]
    },
    {
      "cell_type": "code",
      "execution_count": null,
      "metadata": {
        "colab": {
          "base_uri": "https://localhost:8080/"
        },
        "id": "1im0D-EK6tY-",
        "outputId": "6297b910-6b2d-4605-ee1e-2ab97aff14c9"
      },
      "outputs": [
        {
          "output_type": "execute_result",
          "data": {
            "text/plain": [
              "array(['Abs light on', 'Ac not working', 'All 4 wheel drive not working',\n",
              "       'Back up camera not working', 'Battery drain when vehicle is off',\n",
              "       'Coolant leak', 'Engine overheating', 'Engine oil leak',\n",
              "       'Exhaust leak noise', 'Low engine oil pressure level',\n",
              "       'Low power hard acceleration', 'Misfire', 'No heat from hvac',\n",
              "       'No start', 'Power window not working', 'Steering problems',\n",
              "       'Windshield wipers inoperative', 'Driveline shudder noise binding'],\n",
              "      dtype=object)"
            ]
          },
          "metadata": {},
          "execution_count": 95
        }
      ],
      "source": [
        "label_problem"
      ]
    },
    {
      "cell_type": "code",
      "execution_count": null,
      "metadata": {
        "id": "KjeZHhlW-jV6"
      },
      "outputs": [],
      "source": [
        "# Save the word2vec model to disk\n",
        "with open('/content/drive/MyDrive/RaH_NLP_24/wv_model.pickle', 'wb') as f:\n",
        "    pickle.dump(wv_model, f)\n",
        "\n",
        "# Save the logistic regression model to disk\n",
        "with open('/content/drive/MyDrive/RaH_NLP_24/lr_model.pickle', 'wb') as f:\n",
        "    pickle.dump(lr_model, f)\n",
        "\n",
        "# Save the SVC model to disk\n",
        "with open('/content/drive/MyDrive/RaH_NLP_24/svc_model.pickle', 'wb') as f:\n",
        "    pickle.dump(svc_model, f)\n",
        "\n",
        "with open('/content/drive/MyDrive/RaH_NLP_24/rf_model.pickle', 'wb') as f:\n",
        "    pickle.dump(rf_model, f)\n",
        "\n",
        "# Save the dt model to disk\n",
        "with open('/content/drive/MyDrive/RaH_NLP_24/dt_model.pickle', 'wb') as f:\n",
        "    pickle.dump(dt_model, f)\n",
        "\n",
        "with open('/content/drive/MyDrive/RaH_NLP_24/wv.pickle', 'wb') as f:\n",
        "    pickle.dump(label_problem, f)"
      ]
    },
    {
      "cell_type": "code",
      "execution_count": null,
      "metadata": {
        "id": "9EikqCnA_FLF"
      },
      "outputs": [],
      "source": [
        "# Load the word2vec model from disk\n",
        "with open('/content/drive/MyDrive/RaH_NLP_new/wv_model.pickle', 'rb') as f:\n",
        "    wv_model = pickle.load(f)\n",
        "\n",
        "# Load the logistic regression model from disk\n",
        "with open('/content/drive/MyDrive/RaH_NLP_new/lr_model.pickle', 'rb') as f:\n",
        "    lr_model = pickle.load(f)\n",
        "\n",
        "with open('/content/drive/MyDrive/RaH_NLP_new/wv.pickle', 'rb') as f:\n",
        "    problem_labels = pickle.load(f)"
      ]
    },
    {
      "cell_type": "code",
      "source": [],
      "metadata": {
        "id": "vJqJCGxdXnj6"
      },
      "execution_count": null,
      "outputs": []
    },
    {
      "cell_type": "markdown",
      "source": [
        "# Testing"
      ],
      "metadata": {
        "id": "d6L3qR6aXoWx"
      }
    },
    {
      "cell_type": "code",
      "source": [
        "problem_labels"
      ],
      "metadata": {
        "colab": {
          "base_uri": "https://localhost:8080/"
        },
        "id": "f6-hBnofXsUq",
        "outputId": "14166fd6-cb98-4d9e-b314-0b055b74e0ab"
      },
      "execution_count": null,
      "outputs": [
        {
          "output_type": "execute_result",
          "data": {
            "text/plain": [
              "array(['Abs light on', 'Ac not working', 'All 4 wheel drive not working',\n",
              "       'Back up camera not working', 'Battery drain when vehicle is off',\n",
              "       'Coolant leak', 'Engine overheating', 'Engine oil leak',\n",
              "       'Exhaust leak noise', 'Low engine oil pressure level',\n",
              "       'Low power hard acceleration', 'Misfire', 'No heat from hvac',\n",
              "       'No start', 'Power window not working', 'Steering problems',\n",
              "       'Windshield wipers inoperative'], dtype=object)"
            ]
          },
          "metadata": {},
          "execution_count": 4
        }
      ]
    },
    {
      "cell_type": "code",
      "source": [
        "# Get user input\n",
        "text = input('Enter a text description: ')\n",
        "text = preprocess_text(text)\n",
        "vector = get_vector(text)\n",
        "#predict_label(vector)\n",
        "\n",
        "# Predict the label\n",
        "prediction = lr_model.predict([vector])\n",
        "\n",
        "# Output the label\n",
        "print('The label is:', prediction[0])"
      ],
      "metadata": {
        "colab": {
          "base_uri": "https://localhost:8080/"
        },
        "id": "FvO4laJqXvEF",
        "outputId": "80895a3b-5434-49fc-f25b-98d1cad1a2f5"
      },
      "execution_count": null,
      "outputs": [
        {
          "output_type": "stream",
          "name": "stdout",
          "text": [
            "Enter a text description: Engine Misfire\n",
            "The label is: Misfire\n"
          ]
        }
      ]
    },
    {
      "cell_type": "code",
      "source": [
        "# Get user input\n",
        "text = input('Enter a text description: ')\n",
        "text = preprocess_text(text)\n",
        "vector = get_vector(text)\n",
        "#predict_label(vector)\n",
        "\n",
        "# Predict the label\n",
        "prediction = lr_model.predict([vector])\n",
        "\n",
        "# Output the label\n",
        "print('The label is:', prediction[0])"
      ],
      "metadata": {
        "colab": {
          "base_uri": "https://localhost:8080/"
        },
        "id": "UzncWkSPbWgQ",
        "outputId": "8941b3ef-ae06-472e-bf06-80e6d96c56f3"
      },
      "execution_count": null,
      "outputs": [
        {
          "output_type": "stream",
          "name": "stdout",
          "text": [
            "Enter a text description: Running Rough\n",
            "The label is: Engine overheating\n"
          ]
        }
      ]
    },
    {
      "cell_type": "code",
      "source": [
        "# Get user input\n",
        "text = input('Enter a text description: ')\n",
        "text = preprocess_text(text)\n",
        "vector = get_vector(text)\n",
        "#predict_label(vector)\n",
        "\n",
        "# Predict the label\n",
        "prediction = lr_model.predict([vector])\n",
        "\n",
        "# Output the label\n",
        "print('The label is:', prediction[0])"
      ],
      "metadata": {
        "colab": {
          "base_uri": "https://localhost:8080/"
        },
        "id": "e1ABQWQGb0nG",
        "outputId": "52523eed-7ce6-4527-a23e-17599a9eddbf"
      },
      "execution_count": null,
      "outputs": [
        {
          "output_type": "stream",
          "name": "stdout",
          "text": [
            "Enter a text description: Low power hard acceleration\n",
            "The label is: Low power hard acceleration\n"
          ]
        }
      ]
    },
    {
      "cell_type": "code",
      "source": [
        "# Get user input\n",
        "text = input('Enter a text description: ')\n",
        "text = preprocess_text(text)\n",
        "vector = get_vector(text)\n",
        "#predict_label(vector)\n",
        "\n",
        "# Predict the label\n",
        "prediction = lr_model.predict([vector])\n",
        "\n",
        "# Output the label\n",
        "print('The label is:', prediction[0])"
      ],
      "metadata": {
        "colab": {
          "base_uri": "https://localhost:8080/"
        },
        "id": "2QhMObTub3f4",
        "outputId": "a3c36824-5d82-4c78-8c5d-589299689459"
      },
      "execution_count": null,
      "outputs": [
        {
          "output_type": "stream",
          "name": "stdout",
          "text": [
            "Enter a text description: hard acceleration\n",
            "The label is: Steering problems\n"
          ]
        }
      ]
    },
    {
      "cell_type": "code",
      "source": [
        "# Get user input\n",
        "text = input('Enter a text description: ')\n",
        "text = preprocess_text(text)\n",
        "vector = get_vector(text)\n",
        "#predict_label(vector)\n",
        "\n",
        "# Predict the label\n",
        "prediction = lr_model.predict([vector])\n",
        "\n",
        "# Output the label\n",
        "print('The label is:', prediction[0])"
      ],
      "metadata": {
        "colab": {
          "base_uri": "https://localhost:8080/"
        },
        "id": "Te3XWAKtcD5J",
        "outputId": "6c742907-0505-41b0-b21d-596431bfd448"
      },
      "execution_count": null,
      "outputs": [
        {
          "output_type": "stream",
          "name": "stdout",
          "text": [
            "Enter a text description: Low engine oil pressure\n",
            "The label is: Engine oil leak\n"
          ]
        }
      ]
    },
    {
      "cell_type": "code",
      "source": [
        "# Get user input\n",
        "text = input('Enter a text description: ')\n",
        "text = preprocess_text(text)\n",
        "vector = get_vector(text)\n",
        "#predict_label(vector)\n",
        "\n",
        "# Predict the label\n",
        "prediction = lr_model.predict([vector])\n",
        "\n",
        "# Output the label\n",
        "print('The label is:', prediction[0])"
      ],
      "metadata": {
        "colab": {
          "base_uri": "https://localhost:8080/"
        },
        "id": "B5FQhAFhcQK9",
        "outputId": "c469c114-7328-473f-e2ab-544a58342be5"
      },
      "execution_count": null,
      "outputs": [
        {
          "output_type": "stream",
          "name": "stdout",
          "text": [
            "Enter a text description: Cylinder misfire\n",
            "The label is: Misfire\n"
          ]
        }
      ]
    },
    {
      "cell_type": "code",
      "source": [
        "# Get user input\n",
        "text = input('Enter a text description: ')\n",
        "text = preprocess_text(text)\n",
        "vector = get_vector(text)\n",
        "#predict_label(vector)\n",
        "\n",
        "# Predict the label\n",
        "prediction = lr_model.predict([vector])\n",
        "\n",
        "# Output the label\n",
        "print('The label is:', prediction[0])"
      ],
      "metadata": {
        "colab": {
          "base_uri": "https://localhost:8080/"
        },
        "id": "1RKUiG5ycXgt",
        "outputId": "5231b56c-be0e-4ff1-cb9d-de41250ffb50"
      },
      "execution_count": null,
      "outputs": [
        {
          "output_type": "stream",
          "name": "stdout",
          "text": [
            "Enter a text description: coolant leakage\n",
            "The label is: Engine oil leak\n"
          ]
        }
      ]
    },
    {
      "cell_type": "code",
      "source": [
        "# Get user input\n",
        "text = input('Enter a text description: ')\n",
        "text = preprocess_text(text)\n",
        "vector = get_vector(text)\n",
        "#predict_label(vector)\n",
        "\n",
        "# Predict the label\n",
        "prediction = lr_model.predict([vector])\n",
        "\n",
        "# Output the label\n",
        "print('The label is:', prediction[0])"
      ],
      "metadata": {
        "colab": {
          "base_uri": "https://localhost:8080/"
        },
        "id": "iVtYAAFZcYmw",
        "outputId": "14a2772f-0a5a-48cb-8ce9-10d8c075188e"
      },
      "execution_count": null,
      "outputs": [
        {
          "output_type": "stream",
          "name": "stdout",
          "text": [
            "Enter a text description: barely running\n",
            "The label is: Windshield wipers inoperative\n"
          ]
        }
      ]
    },
    {
      "cell_type": "code",
      "source": [
        "# Get user input\n",
        "text = input('Enter a text description: ')\n",
        "text = preprocess_text(text)\n",
        "vector = get_vector(text)\n",
        "#predict_label(vector)\n",
        "\n",
        "# Predict the label\n",
        "prediction = lr_model.predict([vector])\n",
        "\n",
        "# Output the label\n",
        "print('The label is:', prediction[0])"
      ],
      "metadata": {
        "colab": {
          "base_uri": "https://localhost:8080/"
        },
        "id": "_6y1GR4bcZT0",
        "outputId": "777ace65-088c-4b50-9c2f-04cc501661b9"
      },
      "execution_count": null,
      "outputs": [
        {
          "output_type": "stream",
          "name": "stdout",
          "text": [
            "Enter a text description: Ac not working\n",
            "The label is: Ac not working\n"
          ]
        }
      ]
    },
    {
      "cell_type": "code",
      "source": [
        "# Get user input\n",
        "text = input('Enter a text description: ')\n",
        "text = preprocess_text(text)\n",
        "vector = get_vector(text)\n",
        "#predict_label(vector)\n",
        "\n",
        "# Predict the label\n",
        "prediction = lr_model.predict([vector])\n",
        "\n",
        "# Output the label\n",
        "print('The label is:', prediction[0])"
      ],
      "metadata": {
        "colab": {
          "base_uri": "https://localhost:8080/"
        },
        "id": "LRkBzCjgdq_q",
        "outputId": "521d56e0-7ffa-4dcc-e112-b336d41aacf6"
      },
      "execution_count": null,
      "outputs": [
        {
          "output_type": "stream",
          "name": "stdout",
          "text": [
            "Enter a text description: A/C not working\n",
            "The label is: Ac not working\n"
          ]
        }
      ]
    },
    {
      "cell_type": "code",
      "source": [
        "# Get user input\n",
        "text = input('Enter a text description: ')\n",
        "text = preprocess_text(text)\n",
        "vector = get_vector(text)\n",
        "#predict_label(vector)\n",
        "\n",
        "# Predict the label\n",
        "prediction = lr_model.predict([vector])\n",
        "\n",
        "# Output the label\n",
        "print('The label is:', prediction[0])"
      ],
      "metadata": {
        "colab": {
          "base_uri": "https://localhost:8080/"
        },
        "id": "jQCuEm3ffDGu",
        "outputId": "44dd5c4f-8233-4335-f22d-df1f8f60f6dc"
      },
      "execution_count": null,
      "outputs": [
        {
          "output_type": "stream",
          "name": "stdout",
          "text": [
            "Enter a text description:  wipers are not working\n",
            "The label is: Windshield wipers inoperative\n"
          ]
        }
      ]
    },
    {
      "cell_type": "code",
      "source": [
        "# Get user input\n",
        "text = input('Enter a text description: ')\n",
        "text = preprocess_text(text)\n",
        "vector = get_vector(text)\n",
        "#predict_label(vector)\n",
        "\n",
        "# Predict the label\n",
        "prediction = lr_model.predict([vector])\n",
        "\n",
        "# Output the label\n",
        "print('The label is:', prediction[0])"
      ],
      "metadata": {
        "colab": {
          "base_uri": "https://localhost:8080/"
        },
        "id": "B6SlxpjqfOi3",
        "outputId": "9b0f879a-0367-427d-e348-11354b53428c"
      },
      "execution_count": null,
      "outputs": [
        {
          "output_type": "stream",
          "name": "stdout",
          "text": [
            "Enter a text description: no heat\n",
            "The label is: No heat from hvac\n"
          ]
        }
      ]
    },
    {
      "cell_type": "code",
      "source": [
        "# Get user input\n",
        "text = input('Enter a text description: ')\n",
        "text = preprocess_text(text)\n",
        "vector = get_vector(text)\n",
        "#predict_label(vector)\n",
        "\n",
        "# Predict the label\n",
        "prediction = lr_model.predict([vector])\n",
        "\n",
        "# Output the label\n",
        "print('The label is:', prediction[0])"
      ],
      "metadata": {
        "colab": {
          "base_uri": "https://localhost:8080/"
        },
        "id": "iid8700Efck0",
        "outputId": "d9567ec8-648a-4982-f701-ef6203f56cc3"
      },
      "execution_count": null,
      "outputs": [
        {
          "output_type": "stream",
          "name": "stdout",
          "text": [
            "Enter a text description: Low engine oil pressure\n",
            "The label is: Engine oil leak\n"
          ]
        }
      ]
    },
    {
      "cell_type": "code",
      "source": [
        "# Get user input\n",
        "text = input('Enter a text description: ')\n",
        "text = preprocess_text(text)\n",
        "vector = get_vector(text)\n",
        "#predict_label(vector)\n",
        "\n",
        "# Predict the label\n",
        "prediction = lr_model.predict([vector])\n",
        "\n",
        "# Output the label\n",
        "print('The label is:', prediction[0])"
      ],
      "metadata": {
        "colab": {
          "base_uri": "https://localhost:8080/"
        },
        "id": "NSvQR5PJfctK",
        "outputId": "accdcafb-5fed-4dc4-f642-05c14a219d83"
      },
      "execution_count": null,
      "outputs": [
        {
          "output_type": "stream",
          "name": "stdout",
          "text": [
            "Enter a text description: No traction\n",
            "The label is: Low power hard acceleration\n"
          ]
        }
      ]
    },
    {
      "cell_type": "code",
      "source": [
        "# Get user input\n",
        "text = input('Enter a text description: ')\n",
        "text = preprocess_text(text)\n",
        "vector = get_vector(text)\n",
        "#predict_label(vector)\n",
        "\n",
        "# Predict the label\n",
        "prediction = lr_model.predict([vector])\n",
        "\n",
        "# Output the label\n",
        "print('The label is:', prediction[0])"
      ],
      "metadata": {
        "colab": {
          "base_uri": "https://localhost:8080/"
        },
        "id": "K_tfNoXxfwAs",
        "outputId": "1dfdd057-a77c-43c5-acf6-53e0e0f98c34"
      },
      "execution_count": null,
      "outputs": [
        {
          "output_type": "stream",
          "name": "stdout",
          "text": [
            "Enter a text description: AWD warning messages\n",
            "The label is: Low power hard acceleration\n"
          ]
        }
      ]
    },
    {
      "cell_type": "code",
      "source": [
        "# Get user input\n",
        "text = input('Enter a text description: ')\n",
        "text = preprocess_text(text)\n",
        "vector = get_vector(text)\n",
        "#predict_label(vector)\n",
        "\n",
        "# Predict the label\n",
        "prediction = lr_model.predict([vector])\n",
        "\n",
        "# Output the label\n",
        "print('The label is:', prediction[0])"
      ],
      "metadata": {
        "colab": {
          "base_uri": "https://localhost:8080/"
        },
        "id": "JYsC0wScfwFc",
        "outputId": "eb9b156b-735c-4968-f4dd-bede463eb085"
      },
      "execution_count": null,
      "outputs": [
        {
          "output_type": "stream",
          "name": "stdout",
          "text": [
            "Enter a text description: ABS Light is on\n",
            "The label is: Abs light on\n"
          ]
        }
      ]
    },
    {
      "cell_type": "code",
      "source": [
        "# Get user input\n",
        "text = input('Enter a text description: ')\n",
        "text = preprocess_text(text)\n",
        "vector = get_vector(text)\n",
        "#predict_label(vector)\n",
        "\n",
        "# Predict the label\n",
        "prediction = lr_model.predict([vector])\n",
        "\n",
        "# Output the label\n",
        "print('The label is:', prediction[0])"
      ],
      "metadata": {
        "id": "xiEZTUs3f83Y",
        "outputId": "233d0c9b-b177-43c2-9c2b-72e4fc64909e",
        "colab": {
          "base_uri": "https://localhost:8080/"
        }
      },
      "execution_count": null,
      "outputs": [
        {
          "output_type": "stream",
          "name": "stdout",
          "text": [
            "Enter a text description: Brake light problem\n",
            "The label is: Abs light on\n"
          ]
        }
      ]
    },
    {
      "cell_type": "markdown",
      "source": [
        "Extra techniques on data to visualize the similarity\n",
        ", not included in training"
      ],
      "metadata": {
        "id": "GNds5Q0DsEzy"
      }
    },
    {
      "cell_type": "markdown",
      "metadata": {
        "id": "_eKz-gdpn1kC"
      },
      "source": [
        "# Distance"
      ]
    },
    {
      "cell_type": "code",
      "execution_count": null,
      "metadata": {
        "id": "jEx9bMMdq3zf"
      },
      "outputs": [],
      "source": [
        "label_problem = df['Logic Tree Name'].unique()"
      ]
    },
    {
      "cell_type": "code",
      "execution_count": null,
      "metadata": {
        "colab": {
          "base_uri": "https://localhost:8080/"
        },
        "id": "nMVxtw9Hs6GT",
        "outputId": "38e852c1-f9b9-483d-a688-de5b098a7bc0"
      },
      "outputs": [
        {
          "data": {
            "text/plain": [
              "array(['Power Window not Working', 'AC not Working', 'Coolant Leak',\n",
              "       'Back Up Camera Not Working when the vehicle is shifted into reverse',\n",
              "       'Low Power Hard Acceleration', 'Engine Oil Leak',\n",
              "       'Engine is Overheating/Running too Hot',\n",
              "       'Hard Steering/No Power Steering Assist',\n",
              "       'All/4 Wheel Drive not Working',\n",
              "       'Low Engine Oil Pressure level Warning', 'No Start',\n",
              "       'No Heat from HVAC', 'Engine Misfire/Cylinder Misfire',\n",
              "       'Windshield Wipers Inoperative/Working turned off',\n",
              "       'Battery Drain when vehicle is off', 'Exhaust Leak Noise',\n",
              "       'ABS light on'], dtype=object)"
            ]
          },
          "execution_count": 194,
          "metadata": {},
          "output_type": "execute_result"
        }
      ],
      "source": [
        "label_problem"
      ]
    },
    {
      "cell_type": "code",
      "execution_count": null,
      "metadata": {
        "id": "WqXgRW6lbgr9"
      },
      "outputs": [],
      "source": [
        "grouped = df.groupby('Logic Tree Name')['features']"
      ]
    },
    {
      "cell_type": "code",
      "execution_count": null,
      "metadata": {
        "colab": {
          "base_uri": "https://localhost:8080/"
        },
        "id": "QzKwIPPYbqOI",
        "outputId": "2df3da70-9695-4c4c-a817-d9062fb172ff"
      },
      "outputs": [
        {
          "data": {
            "text/plain": [
              "<pandas.core.groupby.generic.SeriesGroupBy object at 0x7fe17d877970>"
            ]
          },
          "execution_count": 196,
          "metadata": {},
          "output_type": "execute_result"
        }
      ],
      "source": [
        "grouped"
      ]
    },
    {
      "cell_type": "code",
      "execution_count": null,
      "metadata": {
        "colab": {
          "base_uri": "https://localhost:8080/"
        },
        "id": "Jpbclu9db-Lg",
        "outputId": "2c6cda63-9730-4e33-be59-6985d00a9792"
      },
      "outputs": [
        {
          "name": "stdout",
          "output_type": "stream",
          "text": [
            "<class 'pandas.core.series.Series'>\n"
          ]
        }
      ],
      "source": [
        "mean_values = grouped.mean()\n",
        "\n",
        "print(type(mean_values))\n",
        "mean_f=mean_values.to_frame()"
      ]
    },
    {
      "cell_type": "code",
      "execution_count": null,
      "metadata": {
        "colab": {
          "base_uri": "https://localhost:8080/",
          "height": 613
        },
        "id": "at8wWM-Bh5xj",
        "outputId": "92452424-f077-4245-c5e1-f542d47decf8"
      },
      "outputs": [
        {
          "data": {
            "text/html": [
              "\n",
              "  <div id=\"df-de2504e4-fece-48b8-8a31-a09320817df1\">\n",
              "    <div class=\"colab-df-container\">\n",
              "      <div>\n",
              "<style scoped>\n",
              "    .dataframe tbody tr th:only-of-type {\n",
              "        vertical-align: middle;\n",
              "    }\n",
              "\n",
              "    .dataframe tbody tr th {\n",
              "        vertical-align: top;\n",
              "    }\n",
              "\n",
              "    .dataframe thead th {\n",
              "        text-align: right;\n",
              "    }\n",
              "</style>\n",
              "<table border=\"1\" class=\"dataframe\">\n",
              "  <thead>\n",
              "    <tr style=\"text-align: right;\">\n",
              "      <th></th>\n",
              "      <th>features</th>\n",
              "    </tr>\n",
              "    <tr>\n",
              "      <th>Logic Tree Name</th>\n",
              "      <th></th>\n",
              "    </tr>\n",
              "  </thead>\n",
              "  <tbody>\n",
              "    <tr>\n",
              "      <th>ABS light on</th>\n",
              "      <td>[-0.09678042907140987, 0.13969860216745425, -0...</td>\n",
              "    </tr>\n",
              "    <tr>\n",
              "      <th>AC not Working</th>\n",
              "      <td>[-0.21173410818384167, 0.055361652840062794, -...</td>\n",
              "    </tr>\n",
              "    <tr>\n",
              "      <th>All/4 Wheel Drive not Working</th>\n",
              "      <td>[-0.17927295530460538, 0.11678166472848439, -0...</td>\n",
              "    </tr>\n",
              "    <tr>\n",
              "      <th>Back Up Camera Not Working when the vehicle is shifted into reverse</th>\n",
              "      <td>[-0.10935061702229028, 0.11172177442241824, -0...</td>\n",
              "    </tr>\n",
              "    <tr>\n",
              "      <th>Battery Drain when vehicle is off</th>\n",
              "      <td>[-0.21595191592889934, 0.09396696324685681, -0...</td>\n",
              "    </tr>\n",
              "    <tr>\n",
              "      <th>Coolant Leak</th>\n",
              "      <td>[-0.18962308781930948, 0.06277121337973533, -0...</td>\n",
              "    </tr>\n",
              "    <tr>\n",
              "      <th>Engine Misfire/Cylinder Misfire</th>\n",
              "      <td>[-0.1702738909045629, 0.040589054305481403, -0...</td>\n",
              "    </tr>\n",
              "    <tr>\n",
              "      <th>Engine Oil Leak</th>\n",
              "      <td>[-0.31255756846387833, 0.017744569732327662, -...</td>\n",
              "    </tr>\n",
              "    <tr>\n",
              "      <th>Engine is Overheating/Running too Hot</th>\n",
              "      <td>[-0.1819616285885761, 0.07773471504697844, -0....</td>\n",
              "    </tr>\n",
              "    <tr>\n",
              "      <th>Exhaust Leak Noise</th>\n",
              "      <td>[-0.23029187829997094, 4.726652656351694e-05, ...</td>\n",
              "    </tr>\n",
              "    <tr>\n",
              "      <th>Hard Steering/No Power Steering Assist</th>\n",
              "      <td>[-0.2273649532595131, 0.1338988615082434, 0.06...</td>\n",
              "    </tr>\n",
              "    <tr>\n",
              "      <th>Low Engine Oil Pressure level Warning</th>\n",
              "      <td>[-0.12446015312355219, 0.11713493188297591, -0...</td>\n",
              "    </tr>\n",
              "    <tr>\n",
              "      <th>Low Power Hard Acceleration</th>\n",
              "      <td>[-0.16067857223160475, 0.11521066811826915, -0...</td>\n",
              "    </tr>\n",
              "    <tr>\n",
              "      <th>No Heat from HVAC</th>\n",
              "      <td>[-0.16699111610130046, 0.09824542051059273, -0...</td>\n",
              "    </tr>\n",
              "    <tr>\n",
              "      <th>No Start</th>\n",
              "      <td>[-0.17696518259687335, 0.08201980256516901, -0...</td>\n",
              "    </tr>\n",
              "    <tr>\n",
              "      <th>Power Window not Working</th>\n",
              "      <td>[-0.14363147831116252, 0.19514215187473533, -0...</td>\n",
              "    </tr>\n",
              "    <tr>\n",
              "      <th>Windshield Wipers Inoperative/Working turned off</th>\n",
              "      <td>[-0.16476987484055064, 0.15853416869948925, -0...</td>\n",
              "    </tr>\n",
              "  </tbody>\n",
              "</table>\n",
              "</div>\n",
              "      <button class=\"colab-df-convert\" onclick=\"convertToInteractive('df-de2504e4-fece-48b8-8a31-a09320817df1')\"\n",
              "              title=\"Convert this dataframe to an interactive table.\"\n",
              "              style=\"display:none;\">\n",
              "        \n",
              "  <svg xmlns=\"http://www.w3.org/2000/svg\" height=\"24px\"viewBox=\"0 0 24 24\"\n",
              "       width=\"24px\">\n",
              "    <path d=\"M0 0h24v24H0V0z\" fill=\"none\"/>\n",
              "    <path d=\"M18.56 5.44l.94 2.06.94-2.06 2.06-.94-2.06-.94-.94-2.06-.94 2.06-2.06.94zm-11 1L8.5 8.5l.94-2.06 2.06-.94-2.06-.94L8.5 2.5l-.94 2.06-2.06.94zm10 10l.94 2.06.94-2.06 2.06-.94-2.06-.94-.94-2.06-.94 2.06-2.06.94z\"/><path d=\"M17.41 7.96l-1.37-1.37c-.4-.4-.92-.59-1.43-.59-.52 0-1.04.2-1.43.59L10.3 9.45l-7.72 7.72c-.78.78-.78 2.05 0 2.83L4 21.41c.39.39.9.59 1.41.59.51 0 1.02-.2 1.41-.59l7.78-7.78 2.81-2.81c.8-.78.8-2.07 0-2.86zM5.41 20L4 18.59l7.72-7.72 1.47 1.35L5.41 20z\"/>\n",
              "  </svg>\n",
              "      </button>\n",
              "      \n",
              "  <style>\n",
              "    .colab-df-container {\n",
              "      display:flex;\n",
              "      flex-wrap:wrap;\n",
              "      gap: 12px;\n",
              "    }\n",
              "\n",
              "    .colab-df-convert {\n",
              "      background-color: #E8F0FE;\n",
              "      border: none;\n",
              "      border-radius: 50%;\n",
              "      cursor: pointer;\n",
              "      display: none;\n",
              "      fill: #1967D2;\n",
              "      height: 32px;\n",
              "      padding: 0 0 0 0;\n",
              "      width: 32px;\n",
              "    }\n",
              "\n",
              "    .colab-df-convert:hover {\n",
              "      background-color: #E2EBFA;\n",
              "      box-shadow: 0px 1px 2px rgba(60, 64, 67, 0.3), 0px 1px 3px 1px rgba(60, 64, 67, 0.15);\n",
              "      fill: #174EA6;\n",
              "    }\n",
              "\n",
              "    [theme=dark] .colab-df-convert {\n",
              "      background-color: #3B4455;\n",
              "      fill: #D2E3FC;\n",
              "    }\n",
              "\n",
              "    [theme=dark] .colab-df-convert:hover {\n",
              "      background-color: #434B5C;\n",
              "      box-shadow: 0px 1px 3px 1px rgba(0, 0, 0, 0.15);\n",
              "      filter: drop-shadow(0px 1px 2px rgba(0, 0, 0, 0.3));\n",
              "      fill: #FFFFFF;\n",
              "    }\n",
              "  </style>\n",
              "\n",
              "      <script>\n",
              "        const buttonEl =\n",
              "          document.querySelector('#df-de2504e4-fece-48b8-8a31-a09320817df1 button.colab-df-convert');\n",
              "        buttonEl.style.display =\n",
              "          google.colab.kernel.accessAllowed ? 'block' : 'none';\n",
              "\n",
              "        async function convertToInteractive(key) {\n",
              "          const element = document.querySelector('#df-de2504e4-fece-48b8-8a31-a09320817df1');\n",
              "          const dataTable =\n",
              "            await google.colab.kernel.invokeFunction('convertToInteractive',\n",
              "                                                     [key], {});\n",
              "          if (!dataTable) return;\n",
              "\n",
              "          const docLinkHtml = 'Like what you see? Visit the ' +\n",
              "            '<a target=\"_blank\" href=https://colab.research.google.com/notebooks/data_table.ipynb>data table notebook</a>'\n",
              "            + ' to learn more about interactive tables.';\n",
              "          element.innerHTML = '';\n",
              "          dataTable['output_type'] = 'display_data';\n",
              "          await google.colab.output.renderOutput(dataTable, element);\n",
              "          const docLink = document.createElement('div');\n",
              "          docLink.innerHTML = docLinkHtml;\n",
              "          element.appendChild(docLink);\n",
              "        }\n",
              "      </script>\n",
              "    </div>\n",
              "  </div>\n",
              "  "
            ],
            "text/plain": [
              "                                                                                             features\n",
              "Logic Tree Name                                                                                      \n",
              "ABS light on                                        [-0.09678042907140987, 0.13969860216745425, -0...\n",
              "AC not Working                                      [-0.21173410818384167, 0.055361652840062794, -...\n",
              "All/4 Wheel Drive not Working                       [-0.17927295530460538, 0.11678166472848439, -0...\n",
              "Back Up Camera Not Working when the vehicle is ...  [-0.10935061702229028, 0.11172177442241824, -0...\n",
              "Battery Drain when vehicle is off                   [-0.21595191592889934, 0.09396696324685681, -0...\n",
              "Coolant Leak                                        [-0.18962308781930948, 0.06277121337973533, -0...\n",
              "Engine Misfire/Cylinder Misfire                     [-0.1702738909045629, 0.040589054305481403, -0...\n",
              "Engine Oil Leak                                     [-0.31255756846387833, 0.017744569732327662, -...\n",
              "Engine is Overheating/Running too Hot               [-0.1819616285885761, 0.07773471504697844, -0....\n",
              "Exhaust Leak Noise                                  [-0.23029187829997094, 4.726652656351694e-05, ...\n",
              "Hard Steering/No Power Steering Assist              [-0.2273649532595131, 0.1338988615082434, 0.06...\n",
              "Low Engine Oil Pressure level Warning               [-0.12446015312355219, 0.11713493188297591, -0...\n",
              "Low Power Hard Acceleration                         [-0.16067857223160475, 0.11521066811826915, -0...\n",
              "No Heat from HVAC                                   [-0.16699111610130046, 0.09824542051059273, -0...\n",
              "No Start                                            [-0.17696518259687335, 0.08201980256516901, -0...\n",
              "Power Window not Working                            [-0.14363147831116252, 0.19514215187473533, -0...\n",
              "Windshield Wipers Inoperative/Working turned off    [-0.16476987484055064, 0.15853416869948925, -0..."
            ]
          },
          "execution_count": 198,
          "metadata": {},
          "output_type": "execute_result"
        }
      ],
      "source": [
        "mean_f"
      ]
    },
    {
      "cell_type": "code",
      "execution_count": null,
      "metadata": {
        "colab": {
          "base_uri": "https://localhost:8080/"
        },
        "id": "MSNwZ-ycK-yr",
        "outputId": "6c36175c-366c-4bbe-a37c-28fe4b362d46"
      },
      "outputs": [
        {
          "data": {
            "text/plain": [
              "0      [0.18791604414582253, 0.12679438963532447, -0....\n",
              "1      [0.28120659850537777, 0.6728602879577212, 0.05...\n",
              "2      [-0.1359587510014535, 0.5383572255163208, -0.1...\n",
              "3      [-0.15444839560306303, 0.1254268113922777, -0....\n",
              "4      [-0.25585776292657675, 0.22352820257819667, -0...\n",
              "                             ...                        \n",
              "639    [-0.2518869000033136, 0.12486662790881106, -0....\n",
              "640    [-0.5987819684368949, -0.022444142434265343, -...\n",
              "641    [0.3221164382994175, 0.6024896054528653, 0.302...\n",
              "642    [-0.5122611897864512, 0.05080049396825156, -0....\n",
              "643    [-0.2690768113049368, 0.27643419400556013, -0....\n",
              "Name: features, Length: 12146, dtype: object"
            ]
          },
          "execution_count": 199,
          "metadata": {},
          "output_type": "execute_result"
        }
      ],
      "source": [
        "df['features']"
      ]
    },
    {
      "cell_type": "code",
      "execution_count": null,
      "metadata": {
        "colab": {
          "base_uri": "https://localhost:8080/"
        },
        "id": "gVjN3hTdgMFZ",
        "outputId": "86621dd1-470c-4d6d-ae9c-59e52a174661"
      },
      "outputs": [
        {
          "name": "stdout",
          "output_type": "stream",
          "text": [
            "Power Window not Working\n",
            "AC not Working\n",
            "Coolant Leak\n",
            "Back Up Camera Not Working when the vehicle is shifted into reverse\n",
            "Low Power Hard Acceleration\n",
            "Engine Oil Leak\n",
            "Engine is Overheating/Running too Hot\n",
            "Hard Steering/No Power Steering Assist\n",
            "All/4 Wheel Drive not Working\n",
            "Low Engine Oil Pressure level Warning\n",
            "No Start\n",
            "No Heat from HVAC\n",
            "Engine Misfire/Cylinder Misfire\n",
            "Windshield Wipers Inoperative/Working turned off\n",
            "Battery Drain when vehicle is off\n",
            "Exhaust Leak Noise\n",
            "ABS light on\n"
          ]
        }
      ],
      "source": [
        "mins=[]\n",
        "maxs=[]\n",
        "for i in label_problem:\n",
        "  print(i)\n",
        "  d=[]\n",
        "  f = df.loc[df['Logic Tree Name'] == i  , 'features']\n",
        "  for val in f:\n",
        "    m_val = mean_f.at[i, 'features']\n",
        "    distance = np.linalg.norm(val - m_val)\n",
        "    d.append(distance)\n",
        "  mins.append(min(d))\n",
        "  maxs.append(max(d))"
      ]
    },
    {
      "cell_type": "code",
      "execution_count": null,
      "metadata": {
        "colab": {
          "base_uri": "https://localhost:8080/"
        },
        "id": "il4Jhq5mlDQe",
        "outputId": "7277b2cc-c45a-48a7-87c4-db71de0dfc0e"
      },
      "outputs": [
        {
          "data": {
            "text/plain": [
              "[0.41037464662032913,\n",
              " 0.5807174190945213,\n",
              " 0.6863428532659257,\n",
              " 0.66635895839962,\n",
              " 0.5264479245005683,\n",
              " 0.6141827421450137,\n",
              " 0.5329148173422106,\n",
              " 0.5373098983392599,\n",
              " 0.6402125947766503,\n",
              " 0.8158975072191968,\n",
              " 0.5919505091300379,\n",
              " 0.5955741931960484,\n",
              " 0.5563872640772937,\n",
              " 0.6956686078078524,\n",
              " 0.6434372124408634,\n",
              " 0.6071028632081924,\n",
              " 0.8890097389844791]"
            ]
          },
          "execution_count": 201,
          "metadata": {},
          "output_type": "execute_result"
        }
      ],
      "source": [
        "mins"
      ]
    },
    {
      "cell_type": "code",
      "execution_count": null,
      "metadata": {
        "colab": {
          "base_uri": "https://localhost:8080/"
        },
        "id": "qOw3vzo6lFCA",
        "outputId": "032964fc-8188-4976-edf8-ba71e81ecdef"
      },
      "outputs": [
        {
          "data": {
            "text/plain": [
              "[6.0253324078070944,\n",
              " 5.277813378347086,\n",
              " 4.536340844615451,\n",
              " 3.7916158693327686,\n",
              " 5.401309391680927,\n",
              " 5.29131595813496,\n",
              " 4.986142146303962,\n",
              " 6.983571938303574,\n",
              " 4.369464990041002,\n",
              " 3.6184855220252263,\n",
              " 6.360317046600056,\n",
              " 4.655532800422257,\n",
              " 4.040585236609492,\n",
              " 5.11621510317226,\n",
              " 5.392792259745425,\n",
              " 3.199666174889857,\n",
              " 4.194146776028361]"
            ]
          },
          "execution_count": 202,
          "metadata": {},
          "output_type": "execute_result"
        }
      ],
      "source": [
        "maxs"
      ]
    },
    {
      "cell_type": "code",
      "execution_count": null,
      "metadata": {
        "colab": {
          "base_uri": "https://localhost:8080/"
        },
        "id": "Nwr5UmMxlbXI",
        "outputId": "34bd590e-4d79-457b-ea92-45326b04acb4"
      },
      "outputs": [
        {
          "name": "stdout",
          "output_type": "stream",
          "text": [
            "Enter a text description: AC Problem \n"
          ]
        }
      ],
      "source": [
        "# Get user input\n",
        "text = input('Enter a text description: ')\n",
        "text = preprocess_text(text)\n",
        "vector = get_vector(text)\n",
        "d=[]\n",
        "for i in label_problem:\n",
        "  m_val = mean_f.at[i, 'features']\n",
        "  distance = np.linalg.norm(vector - m_val)\n",
        "  d.append(distance)"
      ]
    },
    {
      "cell_type": "code",
      "execution_count": null,
      "metadata": {
        "colab": {
          "base_uri": "https://localhost:8080/"
        },
        "id": "2q0ttdlsmVoV",
        "outputId": "94c358e5-19de-443a-a232-5c27d1d6632e"
      },
      "outputs": [
        {
          "data": {
            "text/plain": [
              "[7.551091041497081,\n",
              " 7.344425628360352,\n",
              " 7.5196005039064175,\n",
              " 7.524640449124782,\n",
              " 7.708615351944343,\n",
              " 7.570102723749757,\n",
              " 7.559775494966555,\n",
              " 7.525613229505452,\n",
              " 7.626976665723836,\n",
              " 7.576545647139077,\n",
              " 7.554114850316371,\n",
              " 7.393934218349565,\n",
              " 7.567527563639661,\n",
              " 7.631847309728495,\n",
              " 7.575834785789813,\n",
              " 7.508368316843744,\n",
              " 7.5181666146177495]"
            ]
          },
          "execution_count": 207,
          "metadata": {},
          "output_type": "execute_result"
        }
      ],
      "source": [
        "d"
      ]
    },
    {
      "cell_type": "code",
      "execution_count": null,
      "metadata": {
        "colab": {
          "base_uri": "https://localhost:8080/"
        },
        "id": "2K6fgPX-mVyd",
        "outputId": "2074b853-5a25-42a0-f278-0896ad29d0fb"
      },
      "outputs": [
        {
          "name": "stdout",
          "output_type": "stream",
          "text": [
            "outlier\n"
          ]
        }
      ],
      "source": [
        "count=0\n",
        "for i in range(len(d)):\n",
        "  if d[i]<maxs[i]:\n",
        "    count+=1\n",
        "if count == 0:\n",
        "  print(\"outlier\")\n",
        "else:\n",
        "  print(count)\n",
        "  print(\"predict\")"
      ]
    },
    {
      "cell_type": "code",
      "execution_count": null,
      "metadata": {
        "id": "0ImEeCUJn5dq"
      },
      "outputs": [],
      "source": []
    },
    {
      "cell_type": "markdown",
      "metadata": {
        "id": "QX0J8s-ln6dE"
      },
      "source": [
        "# Similarity"
      ]
    },
    {
      "cell_type": "code",
      "execution_count": null,
      "metadata": {
        "id": "zw_Gxnh869fE"
      },
      "outputs": [],
      "source": [
        "def predict_label(vector):\n",
        "    similarities = []\n",
        "    for label in label_problem:\n",
        "        label_vector = get_vector(preprocess_text(label))\n",
        "        similarity = np.dot(vector, label_vector) / (np.linalg.norm(vector) * np.linalg.norm(label_vector))\n",
        "        similarities.append(similarity)\n",
        "        print(f'Similarity with {label}: {similarity}')\n",
        "    prediction = label_problem[np.argmax(similarities)]\n",
        "    print('The predicted label is:', prediction)"
      ]
    },
    {
      "cell_type": "code",
      "execution_count": null,
      "metadata": {
        "colab": {
          "base_uri": "https://localhost:8080/"
        },
        "id": "ZW0rqw_LOKkG",
        "outputId": "175530a7-caaa-467a-dcfa-c3494176f751"
      },
      "outputs": [
        {
          "name": "stdout",
          "output_type": "stream",
          "text": [
            "Enter a text description:  Driver's side window crashed \n",
            "Similarity with Power Window not Working: 0.6748241755691501\n",
            "Similarity with AC not Working: 0.47812369176718394\n",
            "Similarity with Coolant Leak: 0.10898334919621777\n",
            "Similarity with Back Up Camera Not Working when the vehicle is shifted into reverse: 0.5119281558561664\n",
            "Similarity with Low Power Hard Acceleration: 0.2899174917103292\n",
            "Similarity with Engine Oil Leak: 0.15278502509368866\n",
            "Similarity with Engine is Overheating/Running too Hot: 0.3405791183754337\n",
            "Similarity with Hard Steering/No Power Steering Assist: 0.34954851072869364\n",
            "Similarity with All/4 Wheel Drive not Working: 0.46639349914477585\n",
            "Similarity with Low Engine Oil Pressure level Warning: 0.15406068957098115\n",
            "Similarity with No Start: 0.22736281244758663\n",
            "Similarity with No Heat from HVAC: 0.3465789018266372\n",
            "Similarity with Engine Misfire/Cylinder Misfire: 0.1365232487579222\n",
            "Similarity with Windshield Wipers Inoperative/Working turned off: 0.62375520814857\n",
            "Similarity with Battery Drain when vehicle is off: 0.3070650080914513\n",
            "Similarity with Exhaust Leak Noise : 0.2680423340591638\n",
            "Similarity with AC not Working : 0.47812369176718394\n",
            "Similarity with Exhaust Leak Noise: 0.2680423340591638\n",
            "Similarity with All/4 Wheel Drive not Working : 0.46639349914477585\n",
            "Similarity with ABS light on: 0.2532874817858887\n",
            "Similarity with ABS light on : 0.2532874817858887\n",
            "The predicted label is: Power Window not Working\n"
          ]
        }
      ],
      "source": [
        "# Get user input\n",
        "text = input('Enter a text description: ')\n",
        "text = preprocess_text(text)\n",
        "vector = get_vector(text)\n",
        "predict_label(vector)\n",
        "\n",
        "# # Predict the label\n",
        "# prediction = lr_model.predict([vector])\n",
        "# p=lr_model.predict_proba([vector])\n",
        "\n",
        "# # Output the label\n",
        "# print('The label is:', prediction[0])\n",
        "# print(p)\n",
        "# print(p.argmax(1).item())"
      ]
    },
    {
      "cell_type": "code",
      "execution_count": null,
      "metadata": {
        "colab": {
          "base_uri": "https://localhost:8080/"
        },
        "id": "pnZoNSQnXxwd",
        "outputId": "4b139d00-b691-4f4e-b6b4-63632bd1bcf3"
      },
      "outputs": [
        {
          "name": "stdout",
          "output_type": "stream",
          "text": [
            "Enter a text description: tyre is flat\n",
            "Similarity with Power Window not Working: 0.33666528221617\n",
            "Similarity with AC not Working: 0.3646626745237001\n",
            "Similarity with Coolant Leak: 0.24313259625511208\n",
            "Similarity with Back Up Camera Not Working when the vehicle is shifted into reverse: 0.4817297879564545\n",
            "Similarity with Low Power Hard Acceleration: 0.32473158531686497\n",
            "Similarity with Engine Oil Leak: 0.2894760390612055\n",
            "Similarity with Engine is Overheating/Running too Hot: 0.6291832761029714\n",
            "Similarity with Hard Steering/No Power Steering Assist: 0.34491818739099206\n",
            "Similarity with All/4 Wheel Drive not Working: 0.326369268974351\n",
            "Similarity with Low Engine Oil Pressure level Warning: 0.2334322929224993\n",
            "Similarity with No Start: 0.25596742997678623\n",
            "Similarity with No Heat from HVAC: 0.38864767366441483\n",
            "Similarity with Engine Misfire/Cylinder Misfire: 0.1230239931795143\n",
            "Similarity with Windshield Wipers Inoperative/Working turned off: 0.24056493136272372\n",
            "Similarity with Battery Drain when vehicle is off: 0.5264973181079751\n",
            "Similarity with Exhaust Leak Noise : 0.2744510155612983\n",
            "Similarity with AC not Working : 0.3646626745237001\n",
            "Similarity with Exhaust Leak Noise: 0.2744510155612983\n",
            "Similarity with All/4 Wheel Drive not Working : 0.326369268974351\n",
            "Similarity with ABS light on: 0.16612643035657887\n",
            "Similarity with ABS light on : 0.16612643035657887\n",
            "The predicted label is: Engine is Overheating/Running too Hot\n"
          ]
        }
      ],
      "source": [
        "# Get user input\n",
        "text = input('Enter a text description: ')\n",
        "text = preprocess_text(text)\n",
        "vector = get_vector(text)\n",
        "predict_label(vector)"
      ]
    }
  ],
  "metadata": {
    "colab": {
      "provenance": []
    },
    "kernelspec": {
      "display_name": "Python 3",
      "name": "python3"
    },
    "language_info": {
      "name": "python"
    }
  },
  "nbformat": 4,
  "nbformat_minor": 0
}